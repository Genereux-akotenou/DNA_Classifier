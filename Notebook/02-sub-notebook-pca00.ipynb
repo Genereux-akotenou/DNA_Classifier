{
 "cells": [
  {
   "cell_type": "markdown",
   "id": "b7ee6f51-6c80-4d7a-b99d-bb17f25003c1",
   "metadata": {},
   "source": [
    "**PCA**: Dimenssion reduction"
   ]
  },
  {
   "cell_type": "markdown",
   "id": "1231e31d-2c4a-42f8-815f-6eaf9cdedffb",
   "metadata": {},
   "source": [
    "Principal Component Analysis is a versatile and powerful technique for dimensionality reduction and feature extraction. By transforming complex, high-dimensional datasets into a more manageable form, PCA aids in data exploration, visualization, and analysis. Its mathematical underpinnings, coupled with its diverse applications, make PCA an indispensable tool in the toolkit of data scientists and analysts worldwide. Understanding the principles and mathematics behind PCA is essential for harnessing its full potential in real-world data analysis tasks."
   ]
  },
  {
   "cell_type": "code",
   "execution_count": 44,
   "id": "ccf4e7d9-39a9-4ebe-9dba-8c6bdd1a3dc6",
   "metadata": {},
   "outputs": [],
   "source": [
    "import numpy as np\n",
    "import pandas as pd\n",
    "import matplotlib.pyplot as plt\n",
    "from sklearn.feature_extraction import DictVectorizer\n",
    "from sklearn.model_selection import train_test_split\n",
    "from sklearn.gaussian_process import GaussianProcessClassifier\n",
    "from sklearn.gaussian_process.kernels import RBF\n",
    "from sklearn.model_selection import StratifiedKFold, cross_val_score\n",
    "from sklearn.metrics import classification_report, accuracy_score\n",
    "from sklearn.decomposition import PCA, KernelPCA\n",
    "from sklearn.preprocessing import StandardScaler\n",
    "from sklearn.linear_model import LogisticRegression\n",
    "from sklearn.metrics import accuracy_score, precision_score, recall_score, f1_score\n",
    "from sklearn.ensemble import RandomForestClassifier, AdaBoostClassifier\n",
    "from sklearn.svm import SVC\n",
    "from xgboost import XGBClassifier\n",
    "from sklearn.ensemble import RandomForestClassifier, AdaBoostClassifier\n",
    "import joblib\n",
    "import itertools\n",
    "from sklearn.pipeline import Pipeline"
   ]
  },
  {
   "cell_type": "markdown",
   "id": "e0c4a02a-5b78-4a03-bfdc-4d1ec5fe9ded",
   "metadata": {},
   "source": [
    "* Utils"
   ]
  },
  {
   "cell_type": "code",
   "execution_count": 45,
   "id": "6eee3c93-a687-4ea2-b910-5547079ce0f3",
   "metadata": {},
   "outputs": [],
   "source": [
    "def kmer_count(sequence, k=3, step=1):\n",
    "    kmers = [''.join(p) for p in itertools.product('ACGT', repeat=k)]\n",
    "    kmers_count = {kmer: 0 for kmer in kmers}\n",
    "    s = 0\n",
    "    for i in range(0, len(sequence) - k + 1, step):\n",
    "        kmer = sequence[i:i + k]\n",
    "        s += 1\n",
    "        kmers_count[kmer] += 1\n",
    "    for key, value in kmers_count.items():\n",
    "        kmers_count[key] = value / s\n",
    "\n",
    "    return kmers_count"
   ]
  },
  {
   "cell_type": "markdown",
   "id": "820f041c-2f67-4b22-87f8-38e7964422cf",
   "metadata": {},
   "source": [
    "* Load dataset"
   ]
  },
  {
   "cell_type": "code",
   "execution_count": 46,
   "id": "e8c97a54-0552-4361-8c8b-36a56ceac0f0",
   "metadata": {},
   "outputs": [],
   "source": [
    "dataset = pd.read_csv(\"../Output/Arabidopsis_thaliana_GHLH_and_CYP_gene.csv\")"
   ]
  },
  {
   "cell_type": "code",
   "execution_count": 47,
   "id": "914c185e-5faf-40e9-af3f-bd049249c9f6",
   "metadata": {},
   "outputs": [],
   "source": [
    "k = 3\n",
    "sequences   = dataset['sequence']\n",
    "kmers_count = []\n",
    "for i in range(len(sequences)):\n",
    "    kmers_count.append(kmer_count(sequences[i], k=k, step=1))"
   ]
  },
  {
   "cell_type": "code",
   "execution_count": 48,
   "id": "8fa5ebf6-6852-4f4b-812f-7642df8945f3",
   "metadata": {},
   "outputs": [
    {
     "data": {
      "text/html": [
       "<div>\n",
       "<style scoped>\n",
       "    .dataframe tbody tr th:only-of-type {\n",
       "        vertical-align: middle;\n",
       "    }\n",
       "\n",
       "    .dataframe tbody tr th {\n",
       "        vertical-align: top;\n",
       "    }\n",
       "\n",
       "    .dataframe thead th {\n",
       "        text-align: right;\n",
       "    }\n",
       "</style>\n",
       "<table border=\"1\" class=\"dataframe\">\n",
       "  <thead>\n",
       "    <tr style=\"text-align: right;\">\n",
       "      <th></th>\n",
       "      <th>AAA</th>\n",
       "      <th>AAC</th>\n",
       "      <th>AAG</th>\n",
       "      <th>AAT</th>\n",
       "      <th>ACA</th>\n",
       "      <th>ACC</th>\n",
       "      <th>ACG</th>\n",
       "      <th>ACT</th>\n",
       "      <th>AGA</th>\n",
       "      <th>AGC</th>\n",
       "      <th>...</th>\n",
       "      <th>TCG</th>\n",
       "      <th>TCT</th>\n",
       "      <th>TGA</th>\n",
       "      <th>TGC</th>\n",
       "      <th>TGG</th>\n",
       "      <th>TGT</th>\n",
       "      <th>TTA</th>\n",
       "      <th>TTC</th>\n",
       "      <th>TTG</th>\n",
       "      <th>TTT</th>\n",
       "    </tr>\n",
       "  </thead>\n",
       "  <tbody>\n",
       "    <tr>\n",
       "      <th>0</th>\n",
       "      <td>0.028758</td>\n",
       "      <td>0.018736</td>\n",
       "      <td>0.028322</td>\n",
       "      <td>0.024401</td>\n",
       "      <td>0.013508</td>\n",
       "      <td>0.008715</td>\n",
       "      <td>0.005664</td>\n",
       "      <td>0.018301</td>\n",
       "      <td>0.029630</td>\n",
       "      <td>0.012636</td>\n",
       "      <td>...</td>\n",
       "      <td>0.010022</td>\n",
       "      <td>0.025272</td>\n",
       "      <td>0.026144</td>\n",
       "      <td>0.013072</td>\n",
       "      <td>0.014815</td>\n",
       "      <td>0.016993</td>\n",
       "      <td>0.018301</td>\n",
       "      <td>0.024837</td>\n",
       "      <td>0.026144</td>\n",
       "      <td>0.043573</td>\n",
       "    </tr>\n",
       "    <tr>\n",
       "      <th>1</th>\n",
       "      <td>0.042148</td>\n",
       "      <td>0.015636</td>\n",
       "      <td>0.020394</td>\n",
       "      <td>0.040789</td>\n",
       "      <td>0.014956</td>\n",
       "      <td>0.004759</td>\n",
       "      <td>0.005438</td>\n",
       "      <td>0.015636</td>\n",
       "      <td>0.031271</td>\n",
       "      <td>0.007478</td>\n",
       "      <td>...</td>\n",
       "      <td>0.010197</td>\n",
       "      <td>0.035350</td>\n",
       "      <td>0.019714</td>\n",
       "      <td>0.008158</td>\n",
       "      <td>0.010877</td>\n",
       "      <td>0.010197</td>\n",
       "      <td>0.031271</td>\n",
       "      <td>0.036030</td>\n",
       "      <td>0.012916</td>\n",
       "      <td>0.062542</td>\n",
       "    </tr>\n",
       "    <tr>\n",
       "      <th>2</th>\n",
       "      <td>0.030108</td>\n",
       "      <td>0.019959</td>\n",
       "      <td>0.025034</td>\n",
       "      <td>0.021313</td>\n",
       "      <td>0.013532</td>\n",
       "      <td>0.008119</td>\n",
       "      <td>0.007442</td>\n",
       "      <td>0.016915</td>\n",
       "      <td>0.024357</td>\n",
       "      <td>0.011502</td>\n",
       "      <td>...</td>\n",
       "      <td>0.010487</td>\n",
       "      <td>0.032476</td>\n",
       "      <td>0.019959</td>\n",
       "      <td>0.015223</td>\n",
       "      <td>0.017591</td>\n",
       "      <td>0.022327</td>\n",
       "      <td>0.016238</td>\n",
       "      <td>0.029770</td>\n",
       "      <td>0.026725</td>\n",
       "      <td>0.046008</td>\n",
       "    </tr>\n",
       "    <tr>\n",
       "      <th>3</th>\n",
       "      <td>0.037222</td>\n",
       "      <td>0.016795</td>\n",
       "      <td>0.019065</td>\n",
       "      <td>0.029051</td>\n",
       "      <td>0.018157</td>\n",
       "      <td>0.009532</td>\n",
       "      <td>0.005447</td>\n",
       "      <td>0.011802</td>\n",
       "      <td>0.022696</td>\n",
       "      <td>0.006809</td>\n",
       "      <td>...</td>\n",
       "      <td>0.005901</td>\n",
       "      <td>0.024966</td>\n",
       "      <td>0.019065</td>\n",
       "      <td>0.012710</td>\n",
       "      <td>0.011348</td>\n",
       "      <td>0.020881</td>\n",
       "      <td>0.031321</td>\n",
       "      <td>0.027236</td>\n",
       "      <td>0.019519</td>\n",
       "      <td>0.059464</td>\n",
       "    </tr>\n",
       "    <tr>\n",
       "      <th>4</th>\n",
       "      <td>0.034068</td>\n",
       "      <td>0.019539</td>\n",
       "      <td>0.033567</td>\n",
       "      <td>0.018537</td>\n",
       "      <td>0.022044</td>\n",
       "      <td>0.011523</td>\n",
       "      <td>0.009519</td>\n",
       "      <td>0.012024</td>\n",
       "      <td>0.036072</td>\n",
       "      <td>0.014028</td>\n",
       "      <td>...</td>\n",
       "      <td>0.009018</td>\n",
       "      <td>0.028056</td>\n",
       "      <td>0.017535</td>\n",
       "      <td>0.006012</td>\n",
       "      <td>0.013026</td>\n",
       "      <td>0.019539</td>\n",
       "      <td>0.018537</td>\n",
       "      <td>0.019539</td>\n",
       "      <td>0.020541</td>\n",
       "      <td>0.049098</td>\n",
       "    </tr>\n",
       "  </tbody>\n",
       "</table>\n",
       "<p>5 rows × 64 columns</p>\n",
       "</div>"
      ],
      "text/plain": [
       "        AAA       AAC       AAG       AAT       ACA       ACC       ACG  \\\n",
       "0  0.028758  0.018736  0.028322  0.024401  0.013508  0.008715  0.005664   \n",
       "1  0.042148  0.015636  0.020394  0.040789  0.014956  0.004759  0.005438   \n",
       "2  0.030108  0.019959  0.025034  0.021313  0.013532  0.008119  0.007442   \n",
       "3  0.037222  0.016795  0.019065  0.029051  0.018157  0.009532  0.005447   \n",
       "4  0.034068  0.019539  0.033567  0.018537  0.022044  0.011523  0.009519   \n",
       "\n",
       "        ACT       AGA       AGC  ...       TCG       TCT       TGA       TGC  \\\n",
       "0  0.018301  0.029630  0.012636  ...  0.010022  0.025272  0.026144  0.013072   \n",
       "1  0.015636  0.031271  0.007478  ...  0.010197  0.035350  0.019714  0.008158   \n",
       "2  0.016915  0.024357  0.011502  ...  0.010487  0.032476  0.019959  0.015223   \n",
       "3  0.011802  0.022696  0.006809  ...  0.005901  0.024966  0.019065  0.012710   \n",
       "4  0.012024  0.036072  0.014028  ...  0.009018  0.028056  0.017535  0.006012   \n",
       "\n",
       "        TGG       TGT       TTA       TTC       TTG       TTT  \n",
       "0  0.014815  0.016993  0.018301  0.024837  0.026144  0.043573  \n",
       "1  0.010877  0.010197  0.031271  0.036030  0.012916  0.062542  \n",
       "2  0.017591  0.022327  0.016238  0.029770  0.026725  0.046008  \n",
       "3  0.011348  0.020881  0.031321  0.027236  0.019519  0.059464  \n",
       "4  0.013026  0.019539  0.018537  0.019539  0.020541  0.049098  \n",
       "\n",
       "[5 rows x 64 columns]"
      ]
     },
     "execution_count": 48,
     "metadata": {},
     "output_type": "execute_result"
    }
   ],
   "source": [
    "v = DictVectorizer(sparse=False)\n",
    "feature_values = v.fit_transform(kmers_count)\n",
    "feature_names = v.get_feature_names_out()\n",
    "X = pd.DataFrame(feature_values, columns=feature_names)\n",
    "X.head()"
   ]
  },
  {
   "cell_type": "code",
   "execution_count": 49,
   "id": "2e88c9ff-debd-4101-bc1d-50d25fc536f8",
   "metadata": {},
   "outputs": [
    {
     "data": {
      "text/plain": [
       "0    0\n",
       "1    0\n",
       "2    0\n",
       "3    0\n",
       "4    0\n",
       "Name: class, dtype: int64"
      ]
     },
     "execution_count": 49,
     "metadata": {},
     "output_type": "execute_result"
    }
   ],
   "source": [
    "y = dataset['class']\n",
    "y.head()"
   ]
  },
  {
   "cell_type": "markdown",
   "id": "294f6f80-c78b-4747-9630-9d86b88bf748",
   "metadata": {},
   "source": [
    "* PCA"
   ]
  },
  {
   "cell_type": "code",
   "execution_count": 50,
   "id": "65ca0b0c-fcb2-414e-bc92-9dca9e278125",
   "metadata": {},
   "outputs": [],
   "source": [
    "# Step 1: Standardize the data\n",
    "scaler = StandardScaler()\n",
    "X_scaled = scaler.fit_transform(X)"
   ]
  },
  {
   "cell_type": "code",
   "execution_count": 55,
   "id": "7f3b3921-1fd4-47d9-92b9-66de58904f58",
   "metadata": {},
   "outputs": [],
   "source": [
    "# Step 2: Perform PCA\n",
    "threshold = 0.95\n",
    "c=int( threshold * min(4**k, X.shape[0]) )\n",
    "pca = PCA(n_components=c)\n",
    "X_pca = pca.fit_transform(X_scaled)"
   ]
  },
  {
   "cell_type": "code",
   "execution_count": 56,
   "id": "de91e8f5-9a3e-46a9-b657-58c98ede23b3",
   "metadata": {},
   "outputs": [
    {
     "data": {
      "text/plain": [
       "60"
      ]
     },
     "execution_count": 56,
     "metadata": {},
     "output_type": "execute_result"
    }
   ],
   "source": [
    "c"
   ]
  },
  {
   "cell_type": "code",
   "execution_count": 57,
   "id": "2daaf651-1fb7-46a7-9bd8-1b340894e385",
   "metadata": {},
   "outputs": [
    {
     "name": "stdout",
     "output_type": "stream",
     "text": [
      "PCA(n_components=60)\n",
      "Cumulative explained variance ratio: 99.99973870767867%\n"
     ]
    }
   ],
   "source": [
    "# Step 3: Explained variance\n",
    "print(pca)\n",
    "explained_variance = pca.explained_variance_ratio_\n",
    "explained_variance_ratio = pca.explained_variance_ratio_\n",
    "#print(\"Explained variance by each component: \", explained_variance)\n",
    "#print(\"Cumulative explained variance: \", np.cumsum(explained_variance))\n",
    "print(f\"Cumulative explained variance ratio: {np.sum(explained_variance_ratio)*100}%\", )"
   ]
  },
  {
   "cell_type": "code",
   "execution_count": 58,
   "id": "e8dfd9d7-aef5-4bb4-aa53-820bfd1e1f7c",
   "metadata": {},
   "outputs": [
    {
     "data": {
      "image/png": "[encoded data removed]",
      "text/plain": [
       "<Figure size 800x500 with 1 Axes>"
      ]
     },
     "metadata": {},
     "output_type": "display_data"
    }
   ],
   "source": [
    "# Step 4: Plot the explained variance\n",
    "plt.figure(figsize=(8, 5))\n",
    "plt.bar(range(1, len(explained_variance) + 1), explained_variance, alpha=0.5, align='center')\n",
    "plt.ylabel('Variance explained')\n",
    "plt.xlabel('Principal components')\n",
    "plt.title('Explained Variance by Principal Components')\n",
    "plt.show()"
   ]
  },
  {
   "cell_type": "code",
   "execution_count": 59,
   "id": "467e95f6-cd1f-4e87-9c29-d4232ddde45e",
   "metadata": {},
   "outputs": [
    {
     "data": {
      "image/png": "[encoded data removed]",
      "text/plain": [
       "<Figure size 1000x700 with 1 Axes>"
      ]
     },
     "metadata": {},
     "output_type": "display_data"
    }
   ],
   "source": [
    "# Step 5: Visualize the PCA results\n",
    "plt.figure(figsize=(10, 7))\n",
    "scatter = plt.scatter(X_pca[:, 0], X_pca[:, 1], c=y, cmap='viridis', alpha=0.5)\n",
    "plt.xlabel('Principal Component 1')\n",
    "plt.ylabel('Principal Component 2')\n",
    "plt.title('PCA of K-mers Features')\n",
    "plt.legend(handles=scatter.legend_elements()[0], labels=set(y))\n",
    "plt.show()"
   ]
  },
  {
   "cell_type": "code",
   "execution_count": 60,
   "id": "4f4de2ca-d2f7-4ac0-9903-db52cc622ead",
   "metadata": {},
   "outputs": [
    {
     "data": {
      "application/vnd.plotly.v1+json": {
       "config": {
        "plotlyServerURL": "https://plot.ly"
       },
       "data": [
        {
         "marker": {
          "color": [
           0,
           0,
           0,
           0,
           0,
           0,
           0,
           0,
           0,
           0,
           0,
           0,
           0,
           0,
           0,
           0,
           0,
           0,
           0,
           0,
           0,
           0,
           0,
           0,
           0,
           0,
           0,
           0,
           0,
           0,
           0,
           0,
           0,
           0,
           0,
           0,
           0,
           0,
           0,
           0,
           0,
           0,
           0,
           0,
           0,
           0,
           0,
           0,
           0,
           0,
           0,
           0,
           0,
           0,
           0,
           0,
           0,
           0,
           0,
           0,
           0,
           0,
           0,
           0,
           0,
           0,
           0,
           0,
           0,
           0,
           0,
           0,
           0,
           0,
           0,
           0,
           0,
           0,
           0,
           0,
           0,
           0,
           0,
           0,
           0,
           0,
           0,
           0,
           0,
           0,
           0,
           0,
           0,
           0,
           0,
           0,
           0,
           0,
           0,
           0,
           0,
           0,
           0,
           0,
           0,
           0,
           0,
           0,
           0,
           0,
           0,
           0,
           0,
           0,
           0,
           0,
           0,
           0,
           0,
           0,
           0,
           0,
           0,
           0,
           0,
           0,
           0,
           0,
           0,
           0,
           0,
           0,
           0,
           0,
           0,
           0,
           0,
           0,
           0,
           0,
           0,
           0,
           0,
           0,
           0,
           0,
           0,
           0,
           0,
           0,
           0,
           0,
           0,
           0,
           0,
           0,
           0,
           0,
           0,
           0,
           0,
           0,
           1,
           1,
           1,
           1,
           1,
           1,
           1,
           1,
           1,
           1,
           1,
           1,
           1,
           1,
           1,
           1,
           1,
           1,
           1,
           1,
           1,
           1,
           1,
           1,
           1,
           1,
           1,
           1,
           1,
           1,
           1,
           1,
           1,
           1,
           1,
           1,
           1,
           1,
           1,
           1,
           1,
           1,
           1,
           1,
           1,
           1,
           1,
           1,
           1,
           1,
           1,
           1,
           1,
           1,
           1,
           1,
           1,
           1,
           1,
           1,
           1,
           1,
           1,
           1,
           1,
           1,
           1,
           1,
           1,
           1,
           1,
           1,
           1,
           1,
           1,
           1,
           1,
           1,
           1,
           1,
           1,
           1,
           1,
           1,
           1,
           1,
           1,
           1,
           1,
           1,
           1,
           1,
           1,
           1,
           1,
           1,
           1,
           1,
           1,
           1,
           1,
           1,
           1,
           1,
           1,
           1,
           1,
           1,
           1,
           1,
           1,
           1,
           1,
           1,
           1,
           1,
           1,
           1,
           1,
           1,
           1,
           1,
           1,
           1,
           1,
           1,
           1,
           1,
           1,
           1,
           1,
           1,
           1,
           1,
           1,
           1,
           1,
           1,
           1,
           1,
           1,
           1,
           1,
           1,
           1,
           1,
           1,
           1,
           1,
           1,
           1,
           1,
           1,
           1,
           1,
           1,
           1,
           1,
           1,
           1,
           1,
           1,
           1,
           1,
           1,
           1,
           1,
           1,
           1,
           1,
           1,
           1,
           1,
           1,
           1,
           1,
           1,
           1,
           1,
           1,
           1,
           1,
           1,
           1,
           1,
           1,
           1,
           1,
           1,
           1,
           1,
           1,
           1,
           1,
           1,
           1,
           1,
           1,
           1,
           1,
           1,
           1,
           1,
           1,
           1,
           1,
           1,
           1,
           1,
           1,
           1,
           1,
           1,
           1,
           1,
           1,
           1,
           1
          ],
          "colorscale": [
           [
            0,
            "#440154"
           ],
           [
            0.1111111111111111,
            "#482878"
           ],
           [
            0.2222222222222222,
            "#3e4989"
           ],
           [
            0.3333333333333333,
            "#31688e"
           ],
           [
            0.4444444444444444,
            "#26828e"
           ],
           [
            0.5555555555555556,
            "#1f9e89"
           ],
           [
            0.6666666666666666,
            "#35b779"
           ],
           [
            0.7777777777777778,
            "#6ece58"
           ],
           [
            0.8888888888888888,
            "#b5de2b"
           ],
           [
            1,
            "#fde725"
           ]
          ],
          "opacity": 0.5,
          "size": 3
         },
         "mode": "markers",
         "type": "scatter3d",
         "x": [
          0.6355408850372326,
          5.795503150520589,
          -0.06609106982509104,
          4.823890954197331,
          0.9743463315200509,
          0.414978045865593,
          -6.339820425123816,
          2.362589099800504,
          2.227783669226737,
          1.703478544597391,
          4.005128305541223,
          3.421967467736245,
          0.6647381780064803,
          6.816487144997065,
          7.5217946091883405,
          1.362374674229718,
          1.6923936267072073,
          6.881492421798482,
          1.1487060494380852,
          -2.5690598015110986,
          4.267880744164897,
          7.650905984703633,
          2.944553152848915,
          3.704298743513977,
          2.698497541125562,
          5.314572348123595,
          -0.7341383095731027,
          -1.6607224678930979,
          1.9650509260369384,
          2.602717449413876,
          0.7487039357789805,
          -6.176991463229845,
          2.329416230788341,
          3.7516484720919827,
          5.855097773852817,
          9.887582034827881,
          5.163215597416869,
          3.7921393969278556,
          1.8365813017838908,
          1.9350755562738993,
          0.8501365013935409,
          0.7453824625864472,
          0.6857976917708627,
          1.9415982623349644,
          -2.094797763386786,
          3.8508472143875974,
          -1.0248254142414388,
          3.736136262787476,
          1.1982223922050548,
          1.0201735401276062,
          3.2547538273839582,
          5.508888709989597,
          0.16834018983300042,
          0.56007901460806,
          1.4002764683625726,
          4.711841254454997,
          -1.871563212536485,
          2.797342789807518,
          1.690153444395324,
          3.0606226925464823,
          -0.024178193166904758,
          1.4650629636356856,
          2.623526892195844,
          3.935756177758374,
          1.9321512409670902,
          2.7466622408528734,
          4.313966162649071,
          -0.6671556740064132,
          5.615896465471267,
          4.105234238464271,
          1.7133370959899037,
          6.197381100469517,
          2.5915375559604628,
          -9.857751700368604,
          3.853862055721568,
          -6.2130572450474615,
          -3.6622537679885148,
          2.3647789762086155,
          -5.76299748689347,
          2.782337905183789,
          0.8660477385369355,
          7.635262961865373,
          3.414221218449957,
          0.9656938235135238,
          -1.5388454960756732,
          2.0413491318252825,
          0.3487523362305881,
          4.408610170226141,
          4.611198373223466,
          -4.6596816108292325,
          3.0297199213213766,
          1.2769621437963417,
          0.15349446965091812,
          0.8833411599924025,
          0.21143779240625352,
          1.9228780687384202,
          7.206996801431521,
          4.218791789147001,
          -1.2774337865541419,
          -0.21497465821829304,
          -3.403416530678673,
          1.545334021815616,
          1.5886137498826993,
          3.2594672330357897,
          5.5366109021931456,
          4.891939764323037,
          1.955293250705855,
          4.020538988819629,
          -3.265104966021237,
          -4.077591833143654,
          3.224874145686417,
          0.3330156980721656,
          0.15195936081490136,
          2.7335662146901716,
          4.655246654683653,
          1.473112184541507,
          6.167408871624923,
          1.7186941170444279,
          -1.0224111704126189,
          2.319158352976208,
          -2.953349797215636,
          3.862961809913884,
          1.9861299761003866,
          2.5736439147814654,
          -2.759944576115896,
          -2.8784087223960935,
          4.987453615652497,
          4.0296085104895925,
          3.670491708026819,
          4.350510705939954,
          4.2894748759879,
          -4.130510129162082,
          -1.638541172086707,
          -0.289617320080401,
          2.6466629794762873,
          0.8629144706969107,
          2.9869009396900035,
          -2.943170446126146,
          -1.09841784296494,
          1.6831203579877767,
          0.16643588914488255,
          0.8900679323655126,
          1.0615478000254335,
          3.0005326031314588,
          -1.5568413528427254,
          6.176881108945328,
          4.253249139046299,
          -4.890452858505007,
          3.4763845142798666,
          -7.187896147124849,
          4.2786332545592645,
          -7.163493475200004,
          5.093176889011377,
          4.383157425478327,
          1.2406627091119782,
          1.1922281140386215,
          3.2232697056492743,
          6.023109778839611,
          4.278816955649234,
          7.410419078419434,
          6.8818894317278545,
          1.712272524591152,
          -2.2112865717123174,
          2.424698818401803,
          -1.022865741828685,
          -1.8320963297224953,
          4.226567555120651,
          -4.571452160844746,
          -2.0034781124213175,
          -2.6956561373856784,
          -2.7815785572186122,
          -0.11946159490349403,
          -1.5705450851426133,
          -6.502363216395657,
          -3.692952524308753,
          -3.8014551807249246,
          -1.3055324329544746,
          -0.036957135521550985,
          -3.260833597398448,
          -2.4383747492478243,
          2.2173020537516233,
          -4.101932365642129,
          -8.363397317990817,
          -8.627810338034829,
          -5.062132485905022,
          -8.453974081673787,
          4.697407587900863,
          0.2692011948860704,
          -1.839529957465463,
          -0.23741193666970464,
          -0.3921412527344551,
          -6.157772425197189,
          1.3645593563423297,
          0.5297762753301756,
          -4.675138448883639,
          -4.85278084540197,
          -2.64697230304538,
          0.2343486182222026,
          -6.616228751941559,
          -1.8521458464899732,
          3.1630904362057497,
          -1.6082752662526116,
          -5.705855468057461,
          4.419855954947085,
          1.0181943024804998,
          1.4608258903115612,
          1.2405581841557514,
          -0.6313695887180951,
          -0.5574572950761745,
          -3.2834963310944025,
          -0.8147444001015595,
          0.688407557605847,
          2.822729112327723,
          6.6234311546572995,
          -3.8371965641218386,
          -1.1377292676461792,
          -0.37703009053503395,
          -5.350616815168627,
          2.3034361021562764,
          0.9488634649525426,
          -1.7678394415897092,
          -1.4411871205164009,
          0.1283999100351794,
          -1.4815452527507103,
          -1.2895423080549728,
          0.7838848312510824,
          -0.2707024206201273,
          -1.5572889822218428,
          0.8961843705596616,
          1.0418449815603545,
          0.7947537324446241,
          -1.0333261920774952,
          -6.944833299179632,
          -7.815549514950876,
          -9.606247197766814,
          -6.622704198331896,
          -2.85715217221112,
          -2.5782850071393915,
          -2.7923943434335956,
          -2.452235395558847,
          -2.8823751998829206,
          -4.983159062645205,
          -3.1459735041483534,
          1.314711212491243,
          -0.8277377653104818,
          -0.6637131839940051,
          -0.9074037741131475,
          0.2998973326099261,
          -0.556523879069157,
          2.486826736039313,
          -0.6696128830659537,
          -1.9416810334240122,
          5.761225574124174,
          -10.043324089242136,
          -3.18294504852345,
          -0.0793354736179562,
          5.183099397292928,
          0.6063860253207407,
          -0.3385877841794203,
          2.5598871738081606,
          -5.131910847417511,
          -2.9616865387033435,
          -6.180762048131994,
          -2.2260510773662943,
          -1.4718183899932678,
          -0.8597719962688224,
          -2.7881978272548156,
          -2.4463020399794484,
          -4.04387257824528,
          4.618469200519421,
          -0.38975600861426957,
          -4.243013236492414,
          -1.417692414233584,
          -0.36387230156377565,
          -1.4016769033526675,
          -2.9281581574591855,
          -5.493706200079239,
          -1.5637310374498037,
          -0.661507104859944,
          -2.4277176639858475,
          -0.35263072155827274,
          -1.957568101821297,
          -2.328718311256823,
          0.527653235493049,
          -2.3463538055269426,
          -2.5012280964635316,
          -5.253115238110601,
          -0.026137283009681753,
          6.836359658098992,
          -3.8822746998321547,
          -4.625320336592088,
          -0.949178244116043,
          -4.431427285928962,
          -3.057241332237168,
          -3.8739610389973143,
          -4.956338121012132,
          -3.0028638676797663,
          -5.745350239842663,
          -3.832457293782259,
          -2.118031496681629,
          3.4045964180798465,
          -5.489637268641695,
          0.17520832893014704,
          -3.293896794968707,
          0.7259338425286415,
          -0.8204075058966601,
          -3.0172999550323536,
          -4.261127648497664,
          -1.6432298282475202,
          -1.591718627851953,
          -0.1621292506833498,
          -1.2013672904147306,
          -1.885438871874719,
          0.12203343854836712,
          -4.361279710194789,
          -4.573243488380587,
          4.080098945120957,
          -2.429332864818686,
          -7.957242184560764,
          0.4427315269736051,
          -1.952357522831007,
          -0.543914845336935,
          -1.7827340663872044,
          0.0006405917123929238,
          -1.7301379296328039,
          2.936833858775877,
          -3.3833358902078623,
          -2.809630459222105,
          -4.016924137952116,
          5.91147277930932,
          1.594052386634268,
          -2.128535799412221,
          3.544596420811775,
          -1.4999138282894382,
          -2.9525863818949647,
          4.656339565909718,
          1.4189250537955758,
          -2.075769777772351,
          -0.4380862037271295,
          -4.2701825726749725,
          0.3956183285341702,
          1.5241568195042814,
          -4.534228641441343,
          -1.992905294498982,
          -6.096449854281869,
          -3.1296465982895914,
          2.173632917152696,
          -0.7282194870238308,
          -6.1601542574976795,
          0.21091499318276696,
          -9.033600945320877,
          -1.9562143539855283,
          4.521855946136243,
          3.1964819565743485,
          3.596206154589815,
          4.811520545646761,
          -0.3985648132816628,
          -4.021017877889444,
          -1.1016095825716026,
          1.009080248042008,
          -6.06651028142977,
          2.321259343256278,
          -3.008581726869893,
          4.046033979706756,
          6.109865661756354,
          0.9876679517543907,
          4.981540445997269,
          3.1034439916868153,
          1.3707263881934473,
          -4.118685992903657,
          0.8475952486962306,
          3.6656954424749766,
          -1.343019246555191,
          -5.1033281650253635,
          -1.5794012459294724,
          7.357757731045923,
          -3.2946111994244744,
          -6.373045904145039,
          2.787873475747799,
          5.700756058592293
         ],
         "y": [
          -2.1579873472556925,
          0.6778418959776481,
          -1.7386175515449964,
          1.1913235290111783,
          0.09964906630174038,
          -2.999652846741156,
          4.964389599855168,
          -2.2773930002737544,
          -3.4330377817909694,
          -0.15243165125942085,
          -1.3942084442475458,
          -3.113362386067893,
          -1.9879114327812906,
          4.33632649411977,
          1.593911016775898,
          -0.06323731133718936,
          -4.455700680326544,
          1.0068067713165463,
          -3.7061096486709135,
          1.9142721171432258,
          1.7334711710114008,
          2.2843190840319965,
          -0.10242097486526244,
          1.778423704606048,
          2.440277215914917,
          1.86223011047337,
          -3.1932224055413254,
          -3.246903677039841,
          -5.159466545403477,
          -4.2834851151952495,
          -1.46412438812202,
          4.1410295035929945,
          3.385684857000941,
          -1.860846757755994,
          0.002294050863299281,
          2.107985687067942,
          2.6009575669185363,
          -4.115376274737886,
          2.874420367761369,
          -2.410524947033807,
          -0.6522167818983226,
          -5.623407750821358,
          -0.002893948481023785,
          1.5858868408701128,
          -0.021033441716677332,
          2.165980422882394,
          -0.8478520197569586,
          0.5634730183678813,
          -0.902022866520684,
          -0.7527633986022022,
          -2.6532354182410662,
          0.2125647591984419,
          -5.306285698493578,
          -2.741908482481441,
          -1.340206021912656,
          0.2924929955289394,
          -2.0771292232706298,
          3.969823548064712,
          -4.029952635086678,
          1.499729561379828,
          2.3144894465522348,
          1.3022570843859087,
          -1.4099324275354674,
          -1.8853492431169332,
          -2.29190260579059,
          -3.38946758722459,
          -0.6657842583227431,
          -4.982710701434444,
          3.2799835440480507,
          -2.168880365918441,
          3.793505477029301,
          1.2671741197868494,
          2.1920859209261616,
          1.5710509297126152,
          1.7143923506133592,
          4.845326739449368,
          4.178128214368499,
          -1.003263349268039,
          2.883164205413987,
          -4.100299332717445,
          -0.5679806317772061,
          0.03937057013456154,
          1.6414591702759036,
          -1.2877787985146762,
          -0.6253869730101169,
          -3.037958248963242,
          -7.538197192305248,
          0.9362872624465464,
          0.8089934847610442,
          1.7487282680282472,
          -3.5643940321581677,
          1.9262173860041465,
          -4.057719303062166,
          0.28778190381222274,
          -0.8911509652057295,
          -1.0485309140170445,
          2.248764369247975,
          0.4125842197871145,
          4.596055817548537,
          -3.6429561870980387,
          -4.588769301507526,
          -1.1901454026836573,
          -4.944079070296853,
          1.1676598444306256,
          0.6838565597130519,
          1.8375294781917957,
          3.7637343184266316,
          -0.3253306537555117,
          -0.47200032108771706,
          0.35650373965957766,
          -2.594837982831677,
          0.8852450303343331,
          1.167991227324402,
          -1.5799935674030676,
          0.0621377095867928,
          -3.133051062274937,
          1.5870095062330976,
          -3.9696988669902162,
          3.1363751866977156,
          -1.9742926903345677,
          3.5597089317819677,
          -1.5663299688812242,
          -0.8457243996573951,
          -5.078686555782384,
          0.044036578475421584,
          -1.6454036620414447,
          1.7356018284590315,
          -2.9796622753564197,
          5.851874855689311,
          0.3630154861055225,
          2.2932899373359468,
          -2.0963371927439574,
          -2.318648309377482,
          -3.6094757691013437,
          -1.1090724832802732,
          -3.7717225966401373,
          0.22826178493393903,
          0.26257316724307195,
          -0.16650656156346266,
          -2.7363105085042876,
          -3.266081700402408,
          -1.7167481280412182,
          1.4783087902376335,
          1.8971182585948216,
          -2.1807805326289555,
          0.06968556398817616,
          2.3650283799227134,
          -0.9962641971044004,
          1.1902222917352836,
          2.3632257540034147,
          -2.563335267543568,
          3.187406058254071,
          0.55811776847756,
          1.975637823748742,
          -3.029022633411817,
          -3.2710972394321103,
          2.2612254721448846,
          0.11214351528660266,
          2.2192833083749264,
          1.9760440859086748,
          0.5370483227176309,
          0.8295718538406937,
          -1.5206376559289332,
          -0.6072147510815028,
          -3.309781354495708,
          -2.491201785251642,
          0.5571417520873255,
          4.844123313433944,
          -1.929505836489454,
          -0.9318874774990494,
          -2.56731248768259,
          -1.5471563683131027,
          0.9960811434398937,
          0.820338866048274,
          -0.058784972716851486,
          -1.9027328982902025,
          -0.14976617546877247,
          -1.1269756115635505,
          -1.7942355341684224,
          -0.20423360519488468,
          -0.9282343073296141,
          -2.7686766944439665,
          1.1992571304959738,
          -1.8696972998902595,
          -1.3380650256512718,
          -0.9993265825790261,
          0.28003898301132535,
          4.640349232651809,
          -2.0832949190091696,
          -1.3718166505142393,
          2.041855817040235,
          4.465049027437433,
          -0.4947104538294986,
          0.3198993624657828,
          3.906948915767269,
          3.2701275528571645,
          -3.96442245274009,
          -1.4098903730759793,
          -1.2419374397393896,
          -3.744916032197571,
          -1.3975569344084142,
          -4.409384878771714,
          3.167248610232727,
          3.7397883081484466,
          3.906806836237248,
          0.1403732124945486,
          0.03985809130334049,
          -3.011640654199004,
          0.6100196873558091,
          -5.453914330547921,
          2.5088408968539775,
          -3.781862850489799,
          -0.7779403586482747,
          3.570940146013984,
          -3.499545889719411,
          -2.7658073602626336,
          0.32732544517615114,
          3.7527557604801474,
          -1.037695109313692,
          0.15948712885312658,
          1.9926952777582925,
          0.9539269605461146,
          -1.5995305210311013,
          1.705019721224542,
          1.4839823734640736,
          -2.6664106406178325,
          -1.4107993763932345,
          2.4858586067093866,
          3.1737338129868684,
          1.4152147782308784,
          2.343188941780369,
          3.442341691037384,
          2.8569367156767806,
          1.812858147723287,
          2.2643915008223527,
          2.1992097040147325,
          -4.164456578115527,
          3.551886729699534,
          -2.923518862913539,
          0.5228988544996742,
          -1.9072750324951115,
          -4.16889732068389,
          3.1836165967683896,
          -2.017715958836593,
          -0.5458817516590566,
          -3.43473783067331,
          -2.947738842042828,
          -3.0953480885341333,
          -2.5147346238194266,
          -2.730931896969472,
          -2.5146091850001673,
          -2.2070184128666295,
          2.362622303768959,
          3.0205060974931195,
          -2.1523712868417957,
          -0.35256575041703164,
          2.1278092844322813,
          -0.7241986453614061,
          -1.2788686023951155,
          0.44470896171511953,
          4.428203233107003,
          -1.3048755600498074,
          4.407711754959477,
          -0.7480320670072633,
          -3.715489169228831,
          -4.022480277146893,
          -3.530683717969581,
          -2.193734317532694,
          -3.320171926186098,
          2.5192651448324535,
          -2.7237814510176315,
          -2.547615925781962,
          -2.7369774764957064,
          -2.0815658547061373,
          -1.3287583722164922,
          -0.9485043507235655,
          3.087249782473473,
          -1.2287942785240322,
          0.07365059375744773,
          -0.11504268643849692,
          -1.9772634978921577,
          -2.371906334229524,
          -2.625830367207608,
          0.5561863177384302,
          0.042719686651003994,
          -1.3395989386730287,
          2.7698385844875637,
          0.39384408682223554,
          3.6463703710641893,
          -1.7633251017947162,
          -3.6337469766707367,
          -2.429740991611654,
          -0.04355669700013979,
          -1.2204090263519927,
          -4.652100045774471,
          3.9749716010118203,
          4.100486765210054,
          0.2199969757858012,
          0.9599274877606795,
          3.814476990578377,
          4.357189706929891,
          -0.8277878720876527,
          4.0006629034910475,
          2.6630362321022396,
          -2.963755906324926,
          1.0546506300113567,
          3.8157602414154783,
          5.941887153996371,
          4.244140282742809,
          0.8204420627567584,
          0.428120203625108,
          -0.8571107905409084,
          -3.5314694662087556,
          -2.8638964770137765,
          1.543157089405619,
          -0.45682269652503177,
          4.4711259231453635,
          4.529484232956585,
          4.67490763445179,
          1.5295733816302435,
          0.9800415317301359,
          3.332381275939995,
          1.9521821816179026,
          -0.5372403702532715,
          -2.682009610949429,
          2.4889937405117815,
          -3.983285842411019,
          -4.02243802154748,
          -2.5344408534924296,
          2.7133211576029517,
          0.044944212933298575,
          -2.421350281530383,
          5.527859655454376,
          0.47903094190115847,
          3.5142582129456668,
          2.760796529423802,
          1.0273111136330546,
          -2.194980695432998,
          5.094852730526702,
          -0.5857770797892453,
          3.3261623685042423,
          0.5857716523534702,
          -1.912472085813047,
          -1.652846900268278,
          -1.1010333078109151,
          -2.3080862497400814,
          1.4205275374826711,
          -0.4617697258137384,
          2.480408853954881,
          5.2359107408933045,
          6.965604118959507,
          -3.6391353016558297,
          0.14957404047814418,
          -1.3268723913943044,
          0.7266754495645447,
          1.296861738681604,
          -3.0977112036306713,
          -1.6059538227669636,
          5.583872292160956,
          -1.7002986026635314,
          4.067904175165088,
          2.9196123563353464,
          2.2560973459877753,
          3.131050968405886,
          4.810685972952944,
          1.5251334146370463,
          0.8461677996736537,
          2.7957806271930066,
          -3.6533921046041162,
          2.9661002791174447,
          -1.6016985866518059,
          2.7986316205169546,
          -3.928543941310208,
          0.7328120016322034,
          2.3609821540145486,
          2.3305938446206955,
          4.203948712158859,
          6.089904780651091,
          1.071004361577179,
          3.5008291037510486
         ],
         "z": [
          1.716593020585684,
          -2.1166581009751924,
          0.15954716675443942,
          -0.959614005601655,
          -0.4127709945660981,
          -3.8911506842909205,
          2.270830821994839,
          2.8901578482109533,
          2.536916680602055,
          0.3364776676590007,
          -3.547760786786512,
          3.288808588496126,
          1.8096100415571865,
          -1.0662445764671429,
          0.33067778600453945,
          1.6820047237384095,
          2.2205242716202487,
          -0.7079537417879453,
          1.2167164074865724,
          2.8499964103069493,
          -1.615399536874356,
          0.22043978674444084,
          -2.3835364760052373,
          0.8379308079422507,
          0.880247557191349,
          0.6195111190285341,
          -5.2726997178902195,
          1.7778827322569308,
          -0.24887037247869817,
          1.7061438212981608,
          -3.3477556325334783,
          3.5206372003995923,
          -3.4965907600175674,
          7.174544359011153,
          -1.5334361377012744,
          -1.677208862902859,
          -1.4053234538096562,
          1.838715248040545,
          -1.790969624942554,
          -1.0387823219111898,
          3.4996563841619928,
          0.5988967295399954,
          -1.748755141670141,
          0.6042296031269985,
          -1.7764055853425342,
          -1.4780347064308395,
          -4.254273624597966,
          1.2888217076416137,
          -0.09672490799235374,
          1.5630923721493664,
          -0.7356312546321463,
          -0.7601116290608665,
          1.972901950348223,
          -6.263608195102043,
          -0.04132235632371864,
          3.1375688875314833,
          1.8761810893190212,
          -0.4274950103538859,
          -1.9399950875024823,
          -4.749297206819503,
          0.3755263736633106,
          -0.6306112989359355,
          -6.0925244029131305,
          -1.5362053912019178,
          4.246883939624964,
          3.2647280612259815,
          -3.742535861567016,
          -1.4207352125498898,
          1.3106356956834762,
          -0.9332318335765121,
          -0.1067029057236932,
          -0.5131890772026135,
          -1.7300436129380212,
          -15.509221348912106,
          -2.184671255417178,
          4.15392918834701,
          -5.32261775266032,
          -8.796547474448792,
          -3.5755011691460554,
          4.214006481934136,
          0.47184189448085045,
          -3.383752078468621,
          2.797775764389005,
          -1.1663954769269644,
          1.3269054971902237,
          1.8648656660107301,
          2.605629825627756,
          1.3674013692028235,
          0.7616823409727764,
          -2.497668902279221,
          0.8343661111594396,
          -1.5346658781418967,
          -1.1462992210512712,
          -2.120456184512805,
          -0.7719535293774272,
          -2.465927407501613,
          2.074677496048173,
          -4.055809576690858,
          -1.4323285519438238,
          4.393871001060451,
          1.1537099201309053,
          1.2826033369754144,
          -2.034464772131426,
          1.4811579226098297,
          -0.10385659123255588,
          -1.9017059448416977,
          -3.5363883623375214,
          4.965621988892927,
          -1.9499214387876345,
          -1.7493589539953194,
          -2.07762915469502,
          -0.7542235224073742,
          2.7968941330077013,
          -1.799117825271738,
          -1.3249663230562532,
          4.4665904442792295,
          -3.142183758449287,
          2.9460115637052544,
          -1.3641642071625382,
          2.65608956873842,
          -0.27927073357722726,
          -2.4398485428141754,
          0.4576316195422927,
          0.7056794266517887,
          0.4379987392569578,
          -4.308886037871671,
          -2.048942676426303,
          0.3979503377644926,
          -0.29409717137032526,
          -1.6906039434631615,
          -2.388476185300747,
          -4.477779435939771,
          -3.112466831462316,
          -4.71665689418824,
          1.2701573952696104,
          -3.170391400634496,
          -2.1192147334684517,
          0.1842914254909252,
          -0.4468194575613782,
          4.073098938132626,
          2.061579316724104,
          0.4954778398980018,
          2.0992822721936046,
          -0.1959188989465576,
          -0.9984175553223343,
          4.043952206965511,
          -2.5957332693430875,
          3.802972673613796,
          -2.2841406340865316,
          5.554585172404106,
          1.8315191146363445,
          -8.761043445946614,
          -1.7141491731363871,
          -3.747109700320576,
          0.5323229103559574,
          0.3537732743835651,
          -2.2567488413452126,
          2.2784814898375068,
          -1.3350803089188161,
          -0.4909334308326498,
          2.341861896269579,
          -1.3095028858546598,
          1.9947274089134321,
          1.7731357691786904,
          -0.8862279558435376,
          -1.1355946469567535,
          1.8822443147600096,
          2.9679578326678917,
          -2.3667385124304254,
          -2.7870761661378713,
          -0.8917740416656329,
          -0.434714593994152,
          -0.42070120270798056,
          3.2109644770179213,
          1.012275159769215,
          2.2240676956246164,
          0.8299032469650625,
          1.1349242972363567,
          4.609324682440598,
          1.8287236282349746,
          1.688142099755039,
          4.901139937347012,
          -1.323615871400733,
          1.5222731218006713,
          3.3027630759765096,
          1.9033889798439008,
          -1.1338850411705974,
          0.6998741358673181,
          -1.7158600122182401,
          -1.659686671243631,
          3.8939795284374417,
          0.6527958902042078,
          1.1252448368924415,
          1.9915344169768603,
          2.214471375842651,
          4.489070922827708,
          -0.11279463518548866,
          -1.1717081535780707,
          0.7521925984646827,
          0.5474884752704888,
          1.3249157308577961,
          0.08213093085950042,
          4.024528204362483,
          -0.5253895189992319,
          0.25921280442461303,
          -0.5716706770493466,
          -1.5269284793283857,
          0.2293043281973954,
          2.85360554978134,
          2.6229128737640646,
          2.3861946371494653,
          -1.1839897816253067,
          -1.7014919140538427,
          -0.869101321081782,
          -1.4178387614364276,
          -1.4777590673554453,
          -1.7135179988950597,
          -0.7026543563049816,
          1.36484375672075,
          0.7667311793723419,
          0.6551134606547501,
          0.36943688995369556,
          -1.2929320165707157,
          1.0950603395316236,
          -2.0962781894963274,
          1.0120275500616358,
          0.011045094142736144,
          0.9153393677928345,
          1.40660498051474,
          -0.9228262309272127,
          -0.5061276076001497,
          0.2104434508797699,
          -2.6936273793726313,
          -4.935515482002038,
          -2.1208405448821983,
          -1.24204166069108,
          -0.4724730175719956,
          1.8397171241350236,
          0.07110723153282655,
          0.4662988210527474,
          2.172721255953698,
          -3.309570078811934,
          2.4355475792278076,
          0.8442869270358819,
          -1.046140597063217,
          0.9125137281864447,
          -0.10597633765737584,
          -0.05833787298605738,
          -0.4588301563722811,
          -0.2790336270790015,
          -0.570642085736343,
          -0.19267678102809427,
          -1.8939866015084077,
          2.992302326425869,
          0.8794015256783876,
          -0.39590477012589365,
          2.981059489602085,
          -0.7799530015189381,
          -0.8121381762676317,
          -0.3717017427491769,
          2.2185601259865857,
          -0.13779840348720224,
          2.5505981498475543,
          -2.271928539512646,
          0.3640124581033868,
          0.6890488048600699,
          -0.3003106348454599,
          -0.7631640294762289,
          0.7508757611941768,
          -0.8490793029093586,
          -0.2640428023077968,
          -0.22154418575326665,
          2.5230243646332564,
          1.275349558823271,
          -1.5357261712145995,
          -0.255234846287824,
          2.7904282366041993,
          -3.1154722190356035,
          -2.3945655501105088,
          -0.8258553932104343,
          1.0830581475441812,
          1.2912182094570734,
          -1.2156799814537687,
          1.2614285810931987,
          -0.6761274832184686,
          0.6560715467793666,
          -3.4470818054485735,
          1.4321408115318333,
          2.395320127097917,
          -0.06641535296726124,
          -0.876856096830261,
          -1.2520043600206496,
          2.6955760362263077,
          -0.623381842497184,
          1.5806060295051856,
          0.9907959296075671,
          -0.683722381075207,
          0.19510802561493926,
          1.3872907012282265,
          -2.4594121925984815,
          1.658250000129541,
          -2.658757362043477,
          -0.48619218021411986,
          1.2227842663069866,
          1.039958008122536,
          -1.806792423628262,
          -0.944563247598313,
          -4.151841305296129,
          -1.3134881411706456,
          0.4004386186655252,
          0.36381450382999836,
          -0.39326695705973386,
          -0.7341579065410128,
          0.7165401970726036,
          -2.4587890885395915,
          -0.42699890093366133,
          0.8497827083243322,
          1.4437401135626928,
          1.8599666339859606,
          0.32739170752739916,
          0.18785539680997304,
          2.5385294513045387,
          0.17772645428904443,
          -1.7348518113068716,
          -2.819625398796216,
          -0.38404044481947724,
          -0.001187581470917867,
          -1.5337800176370018,
          -1.0867752101070252,
          2.2059658454411775,
          1.8669169085830206,
          -1.3329493319603134,
          1.0124839818573421,
          2.0646249780103814,
          -2.326815427847372,
          0.2411435859601978,
          -0.725888450660246,
          -0.9563861296910062,
          1.3584696653193848,
          -2.2482918948533235,
          1.2752846815371606,
          -1.8754472162184492,
          -0.8970908209295684,
          -0.5885563125907454,
          -1.486071152029156,
          -0.07626990844040914,
          -2.734610791265358,
          1.2922776910875642,
          2.239761413197753,
          1.0636323363458409,
          2.586600639497618,
          -1.4867774148163606,
          0.2059961529646115,
          0.07004670033679498,
          2.403841858512158,
          0.2147509895446923,
          0.6777926529176281,
          -0.24979869710208974,
          -1.2550815227023906,
          -0.025329648410369304,
          1.3198724265762565,
          1.0911080375941582,
          3.830167787353921,
          1.7965643927339463,
          0.8754306539008828,
          2.0833243583659904,
          2.4023731800938655,
          1.9243893997997537,
          1.2482744139766102,
          3.954386476560471,
          2.7794672164038277,
          -0.8140131015393655,
          0.7313903585198058,
          0.9156876780833312,
          4.571669632668488,
          0.273567414398272,
          1.495300760723232,
          0.4775105057264121,
          0.8612328415042646,
          1.0844548980856739
         ]
        }
       ],
       "layout": {
        "height": 500,
        "scene": {
         "aspectmode": "auto",
         "aspectratio": {
          "x": 1.064843287378802,
          "y": 0.7748907837724701,
          "z": 1.2119195934290523
         },
         "camera": {
          "center": {
           "x": 0,
           "y": 0,
           "z": 0
          },
          "eye": {
           "x": 1.9136285325184208,
           "y": 1.9136285325184204,
           "z": 1.9136285325184204
          },
          "projection": {
           "type": "perspective"
          },
          "up": {
           "x": 0,
           "y": 0,
           "z": 1
          }
         },
         "xaxis": {
          "title": {
           "text": "Component 1"
          },
          "type": "linear"
         },
         "yaxis": {
          "title": {
           "text": "Component 2"
          },
          "type": "linear"
         },
         "zaxis": {
          "title": {
           "text": "Component 3"
          },
          "type": "linear"
         }
        },
        "template": {
         "data": {
          "bar": [
           {
            "error_x": {
             "color": "#2a3f5f"
            },
            "error_y": {
             "color": "#2a3f5f"
            },
            "marker": {
             "line": {
              "color": "#E5ECF6",
              "width": 0.5
             },
             "pattern": {
              "fillmode": "overlay",
              "size": 10,
              "solidity": 0.2
             }
            },
            "type": "bar"
           }
          ],
          "barpolar": [
           {
            "marker": {
             "line": {
              "color": "#E5ECF6",
              "width": 0.5
             },
             "pattern": {
              "fillmode": "overlay",
              "size": 10,
              "solidity": 0.2
             }
            },
            "type": "barpolar"
           }
          ],
          "carpet": [
           {
            "aaxis": {
             "endlinecolor": "#2a3f5f",
             "gridcolor": "white",
             "linecolor": "white",
             "minorgridcolor": "white",
             "startlinecolor": "#2a3f5f"
            },
            "baxis": {
             "endlinecolor": "#2a3f5f",
             "gridcolor": "white",
             "linecolor": "white",
             "minorgridcolor": "white",
             "startlinecolor": "#2a3f5f"
            },
            "type": "carpet"
           }
          ],
          "choropleth": [
           {
            "colorbar": {
             "outlinewidth": 0,
             "ticks": ""
            },
            "type": "choropleth"
           }
          ],
          "contour": [
           {
            "colorbar": {
             "outlinewidth": 0,
             "ticks": ""
            },
            "colorscale": [
             [
              0,
              "#0d0887"
             ],
             [
              0.1111111111111111,
              "#46039f"
             ],
             [
              0.2222222222222222,
              "#7201a8"
             ],
             [
              0.3333333333333333,
              "#9c179e"
             ],
             [
              0.4444444444444444,
              "#bd3786"
             ],
             [
              0.5555555555555556,
              "#d8576b"
             ],
             [
              0.6666666666666666,
              "#ed7953"
             ],
             [
              0.7777777777777778,
              "#fb9f3a"
             ],
             [
              0.8888888888888888,
              "#fdca26"
             ],
             [
              1,
              "#f0f921"
             ]
            ],
            "type": "contour"
           }
          ],
          "contourcarpet": [
           {
            "colorbar": {
             "outlinewidth": 0,
             "ticks": ""
            },
            "type": "contourcarpet"
           }
          ],
          "heatmap": [
           {
            "colorbar": {
             "outlinewidth": 0,
             "ticks": ""
            },
            "colorscale": [
             [
              0,
              "#0d0887"
             ],
             [
              0.1111111111111111,
              "#46039f"
             ],
             [
              0.2222222222222222,
              "#7201a8"
             ],
             [
              0.3333333333333333,
              "#9c179e"
             ],
             [
              0.4444444444444444,
              "#bd3786"
             ],
             [
              0.5555555555555556,
              "#d8576b"
             ],
             [
              0.6666666666666666,
              "#ed7953"
             ],
             [
              0.7777777777777778,
              "#fb9f3a"
             ],
             [
              0.8888888888888888,
              "#fdca26"
             ],
             [
              1,
              "#f0f921"
             ]
            ],
            "type": "heatmap"
           }
          ],
          "heatmapgl": [
           {
            "colorbar": {
             "outlinewidth": 0,
             "ticks": ""
            },
            "colorscale": [
             [
              0,
              "#0d0887"
             ],
             [
              0.1111111111111111,
              "#46039f"
             ],
             [
              0.2222222222222222,
              "#7201a8"
             ],
             [
              0.3333333333333333,
              "#9c179e"
             ],
             [
              0.4444444444444444,
              "#bd3786"
             ],
             [
              0.5555555555555556,
              "#d8576b"
             ],
             [
              0.6666666666666666,
              "#ed7953"
             ],
             [
              0.7777777777777778,
              "#fb9f3a"
             ],
             [
              0.8888888888888888,
              "#fdca26"
             ],
             [
              1,
              "#f0f921"
             ]
            ],
            "type": "heatmapgl"
           }
          ],
          "histogram": [
           {
            "marker": {
             "pattern": {
              "fillmode": "overlay",
              "size": 10,
              "solidity": 0.2
             }
            },
            "type": "histogram"
           }
          ],
          "histogram2d": [
           {
            "colorbar": {
             "outlinewidth": 0,
             "ticks": ""
            },
            "colorscale": [
             [
              0,
              "#0d0887"
             ],
             [
              0.1111111111111111,
              "#46039f"
             ],
             [
              0.2222222222222222,
              "#7201a8"
             ],
             [
              0.3333333333333333,
              "#9c179e"
             ],
             [
              0.4444444444444444,
              "#bd3786"
             ],
             [
              0.5555555555555556,
              "#d8576b"
             ],
             [
              0.6666666666666666,
              "#ed7953"
             ],
             [
              0.7777777777777778,
              "#fb9f3a"
             ],
             [
              0.8888888888888888,
              "#fdca26"
             ],
             [
              1,
              "#f0f921"
             ]
            ],
            "type": "histogram2d"
           }
          ],
          "histogram2dcontour": [
           {
            "colorbar": {
             "outlinewidth": 0,
             "ticks": ""
            },
            "colorscale": [
             [
              0,
              "#0d0887"
             ],
             [
              0.1111111111111111,
              "#46039f"
             ],
             [
              0.2222222222222222,
              "#7201a8"
             ],
             [
              0.3333333333333333,
              "#9c179e"
             ],
             [
              0.4444444444444444,
              "#bd3786"
             ],
             [
              0.5555555555555556,
              "#d8576b"
             ],
             [
              0.6666666666666666,
              "#ed7953"
             ],
             [
              0.7777777777777778,
              "#fb9f3a"
             ],
             [
              0.8888888888888888,
              "#fdca26"
             ],
             [
              1,
              "#f0f921"
             ]
            ],
            "type": "histogram2dcontour"
           }
          ],
          "mesh3d": [
           {
            "colorbar": {
             "outlinewidth": 0,
             "ticks": ""
            },
            "type": "mesh3d"
           }
          ],
          "parcoords": [
           {
            "line": {
             "colorbar": {
              "outlinewidth": 0,
              "ticks": ""
             }
            },
            "type": "parcoords"
           }
          ],
          "pie": [
           {
            "automargin": true,
            "type": "pie"
           }
          ],
          "scatter": [
           {
            "fillpattern": {
             "fillmode": "overlay",
             "size": 10,
             "solidity": 0.2
            },
            "type": "scatter"
           }
          ],
          "scatter3d": [
           {
            "line": {
             "colorbar": {
              "outlinewidth": 0,
              "ticks": ""
             }
            },
            "marker": {
             "colorbar": {
              "outlinewidth": 0,
              "ticks": ""
             }
            },
            "type": "scatter3d"
           }
          ],
          "scattercarpet": [
           {
            "marker": {
             "colorbar": {
              "outlinewidth": 0,
              "ticks": ""
             }
            },
            "type": "scattercarpet"
           }
          ],
          "scattergeo": [
           {
            "marker": {
             "colorbar": {
              "outlinewidth": 0,
              "ticks": ""
             }
            },
            "type": "scattergeo"
           }
          ],
          "scattergl": [
           {
            "marker": {
             "colorbar": {
              "outlinewidth": 0,
              "ticks": ""
             }
            },
            "type": "scattergl"
           }
          ],
          "scattermapbox": [
           {
            "marker": {
             "colorbar": {
              "outlinewidth": 0,
              "ticks": ""
             }
            },
            "type": "scattermapbox"
           }
          ],
          "scatterpolar": [
           {
            "marker": {
             "colorbar": {
              "outlinewidth": 0,
              "ticks": ""
             }
            },
            "type": "scatterpolar"
           }
          ],
          "scatterpolargl": [
           {
            "marker": {
             "colorbar": {
              "outlinewidth": 0,
              "ticks": ""
             }
            },
            "type": "scatterpolargl"
           }
          ],
          "scatterternary": [
           {
            "marker": {
             "colorbar": {
              "outlinewidth": 0,
              "ticks": ""
             }
            },
            "type": "scatterternary"
           }
          ],
          "surface": [
           {
            "colorbar": {
             "outlinewidth": 0,
             "ticks": ""
            },
            "colorscale": [
             [
              0,
              "#0d0887"
             ],
             [
              0.1111111111111111,
              "#46039f"
             ],
             [
              0.2222222222222222,
              "#7201a8"
             ],
             [
              0.3333333333333333,
              "#9c179e"
             ],
             [
              0.4444444444444444,
              "#bd3786"
             ],
             [
              0.5555555555555556,
              "#d8576b"
             ],
             [
              0.6666666666666666,
              "#ed7953"
             ],
             [
              0.7777777777777778,
              "#fb9f3a"
             ],
             [
              0.8888888888888888,
              "#fdca26"
             ],
             [
              1,
              "#f0f921"
             ]
            ],
            "type": "surface"
           }
          ],
          "table": [
           {
            "cells": {
             "fill": {
              "color": "#EBF0F8"
             },
             "line": {
              "color": "white"
             }
            },
            "header": {
             "fill": {
              "color": "#C8D4E3"
             },
             "line": {
              "color": "white"
             }
            },
            "type": "table"
           }
          ]
         },
         "layout": {
          "annotationdefaults": {
           "arrowcolor": "#2a3f5f",
           "arrowhead": 0,
           "arrowwidth": 1
          },
          "autotypenumbers": "strict",
          "coloraxis": {
           "colorbar": {
            "outlinewidth": 0,
            "ticks": ""
           }
          },
          "colorscale": {
           "diverging": [
            [
             0,
             "#8e0152"
            ],
            [
             0.1,
             "#c51b7d"
            ],
            [
             0.2,
             "#de77ae"
            ],
            [
             0.3,
             "#f1b6da"
            ],
            [
             0.4,
             "#fde0ef"
            ],
            [
             0.5,
             "#f7f7f7"
            ],
            [
             0.6,
             "#e6f5d0"
            ],
            [
             0.7,
             "#b8e186"
            ],
            [
             0.8,
             "#7fbc41"
            ],
            [
             0.9,
             "#4d9221"
            ],
            [
             1,
             "#276419"
            ]
           ],
           "sequential": [
            [
             0,
             "#0d0887"
            ],
            [
             0.1111111111111111,
             "#46039f"
            ],
            [
             0.2222222222222222,
             "#7201a8"
            ],
            [
             0.3333333333333333,
             "#9c179e"
            ],
            [
             0.4444444444444444,
             "#bd3786"
            ],
            [
             0.5555555555555556,
             "#d8576b"
            ],
            [
             0.6666666666666666,
             "#ed7953"
            ],
            [
             0.7777777777777778,
             "#fb9f3a"
            ],
            [
             0.8888888888888888,
             "#fdca26"
            ],
            [
             1,
             "#f0f921"
            ]
           ],
           "sequentialminus": [
            [
             0,
             "#0d0887"
            ],
            [
             0.1111111111111111,
             "#46039f"
            ],
            [
             0.2222222222222222,
             "#7201a8"
            ],
            [
             0.3333333333333333,
             "#9c179e"
            ],
            [
             0.4444444444444444,
             "#bd3786"
            ],
            [
             0.5555555555555556,
             "#d8576b"
            ],
            [
             0.6666666666666666,
             "#ed7953"
            ],
            [
             0.7777777777777778,
             "#fb9f3a"
            ],
            [
             0.8888888888888888,
             "#fdca26"
            ],
            [
             1,
             "#f0f921"
            ]
           ]
          },
          "colorway": [
           "#636efa",
           "#EF553B",
           "#00cc96",
           "#ab63fa",
           "#FFA15A",
           "#19d3f3",
           "#FF6692",
           "#B6E880",
           "#FF97FF",
           "#FECB52"
          ],
          "font": {
           "color": "#2a3f5f"
          },
          "geo": {
           "bgcolor": "white",
           "lakecolor": "white",
           "landcolor": "#E5ECF6",
           "showlakes": true,
           "showland": true,
           "subunitcolor": "white"
          },
          "hoverlabel": {
           "align": "left"
          },
          "hovermode": "closest",
          "mapbox": {
           "style": "light"
          },
          "paper_bgcolor": "white",
          "plot_bgcolor": "#E5ECF6",
          "polar": {
           "angularaxis": {
            "gridcolor": "white",
            "linecolor": "white",
            "ticks": ""
           },
           "bgcolor": "#E5ECF6",
           "radialaxis": {
            "gridcolor": "white",
            "linecolor": "white",
            "ticks": ""
           }
          },
          "scene": {
           "xaxis": {
            "backgroundcolor": "#E5ECF6",
            "gridcolor": "white",
            "gridwidth": 2,
            "linecolor": "white",
            "showbackground": true,
            "ticks": "",
            "zerolinecolor": "white"
           },
           "yaxis": {
            "backgroundcolor": "#E5ECF6",
            "gridcolor": "white",
            "gridwidth": 2,
            "linecolor": "white",
            "showbackground": true,
            "ticks": "",
            "zerolinecolor": "white"
           },
           "zaxis": {
            "backgroundcolor": "#E5ECF6",
            "gridcolor": "white",
            "gridwidth": 2,
            "linecolor": "white",
            "showbackground": true,
            "ticks": "",
            "zerolinecolor": "white"
           }
          },
          "shapedefaults": {
           "line": {
            "color": "#2a3f5f"
           }
          },
          "ternary": {
           "aaxis": {
            "gridcolor": "white",
            "linecolor": "white",
            "ticks": ""
           },
           "baxis": {
            "gridcolor": "white",
            "linecolor": "white",
            "ticks": ""
           },
           "bgcolor": "#E5ECF6",
           "caxis": {
            "gridcolor": "white",
            "linecolor": "white",
            "ticks": ""
           }
          },
          "title": {
           "x": 0.05
          },
          "xaxis": {
           "automargin": true,
           "gridcolor": "white",
           "linecolor": "white",
           "ticks": "",
           "title": {
            "standoff": 15
           },
           "zerolinecolor": "white",
           "zerolinewidth": 2
          },
          "yaxis": {
           "automargin": true,
           "gridcolor": "white",
           "linecolor": "white",
           "ticks": "",
           "title": {
            "standoff": 15
           },
           "zerolinecolor": "white",
           "zerolinewidth": 2
          }
         }
        },
        "title": {
         "text": "PCA of K-mers Features"
        },
        "width": 1200
       }
      },
      "image/png": "[encoded data removed]",
      "text/html": [
       "<div>                            <div id=\"06385720-4f27-49b2-91ce-93be9606a001\" class=\"plotly-graph-div\" style=\"height:500px; width:1200px;\"></div>            <script type=\"text/javascript\">                require([\"plotly\"], function(Plotly) {                    window.PLOTLYENV=window.PLOTLYENV || {};                                    if (document.getElementById(\"06385720-4f27-49b2-91ce-93be9606a001\")) {                    Plotly.newPlot(                        \"06385720-4f27-49b2-91ce-93be9606a001\",                        [{\"marker\":{\"color\":[0,0,0,0,0,0,0,0,0,0,0,0,0,0,0,0,0,0,0,0,0,0,0,0,0,0,0,0,0,0,0,0,0,0,0,0,0,0,0,0,0,0,0,0,0,0,0,0,0,0,0,0,0,0,0,0,0,0,0,0,0,0,0,0,0,0,0,0,0,0,0,0,0,0,0,0,0,0,0,0,0,0,0,0,0,0,0,0,0,0,0,0,0,0,0,0,0,0,0,0,0,0,0,0,0,0,0,0,0,0,0,0,0,0,0,0,0,0,0,0,0,0,0,0,0,0,0,0,0,0,0,0,0,0,0,0,0,0,0,0,0,0,0,0,0,0,0,0,0,0,0,0,0,0,0,0,0,0,0,0,0,0,1,1,1,1,1,1,1,1,1,1,1,1,1,1,1,1,1,1,1,1,1,1,1,1,1,1,1,1,1,1,1,1,1,1,1,1,1,1,1,1,1,1,1,1,1,1,1,1,1,1,1,1,1,1,1,1,1,1,1,1,1,1,1,1,1,1,1,1,1,1,1,1,1,1,1,1,1,1,1,1,1,1,1,1,1,1,1,1,1,1,1,1,1,1,1,1,1,1,1,1,1,1,1,1,1,1,1,1,1,1,1,1,1,1,1,1,1,1,1,1,1,1,1,1,1,1,1,1,1,1,1,1,1,1,1,1,1,1,1,1,1,1,1,1,1,1,1,1,1,1,1,1,1,1,1,1,1,1,1,1,1,1,1,1,1,1,1,1,1,1,1,1,1,1,1,1,1,1,1,1,1,1,1,1,1,1,1,1,1,1,1,1,1,1,1,1,1,1,1,1,1,1,1,1,1,1,1,1,1,1,1,1,1,1,1,1,1,1],\"colorscale\":[[0.0,\"#440154\"],[0.1111111111111111,\"#482878\"],[0.2222222222222222,\"#3e4989\"],[0.3333333333333333,\"#31688e\"],[0.4444444444444444,\"#26828e\"],[0.5555555555555556,\"#1f9e89\"],[0.6666666666666666,\"#35b779\"],[0.7777777777777778,\"#6ece58\"],[0.8888888888888888,\"#b5de2b\"],[1.0,\"#fde725\"]],\"opacity\":0.5,\"size\":3},\"mode\":\"markers\",\"x\":[0.6355408850372326,5.795503150520589,-0.06609106982509104,4.823890954197331,0.9743463315200509,0.414978045865593,-6.339820425123816,2.362589099800504,2.227783669226737,1.703478544597391,4.005128305541223,3.421967467736245,0.6647381780064803,6.816487144997065,7.5217946091883405,1.362374674229718,1.6923936267072073,6.881492421798482,1.1487060494380852,-2.5690598015110986,4.267880744164897,7.650905984703633,2.944553152848915,3.704298743513977,2.698497541125562,5.314572348123595,-0.7341383095731027,-1.6607224678930979,1.9650509260369384,2.602717449413876,0.7487039357789805,-6.176991463229845,2.329416230788341,3.7516484720919827,5.855097773852817,9.887582034827881,5.163215597416869,3.7921393969278556,1.8365813017838908,1.9350755562738993,0.8501365013935409,0.7453824625864472,0.6857976917708627,1.9415982623349644,-2.094797763386786,3.8508472143875974,-1.0248254142414388,3.736136262787476,1.1982223922050548,1.0201735401276062,3.2547538273839582,5.508888709989597,0.16834018983300042,0.56007901460806,1.4002764683625726,4.711841254454997,-1.871563212536485,2.797342789807518,1.690153444395324,3.0606226925464823,-0.024178193166904758,1.4650629636356856,2.623526892195844,3.935756177758374,1.9321512409670902,2.7466622408528734,4.313966162649071,-0.6671556740064132,5.615896465471267,4.105234238464271,1.7133370959899037,6.197381100469517,2.5915375559604628,-9.857751700368604,3.853862055721568,-6.2130572450474615,-3.6622537679885148,2.3647789762086155,-5.76299748689347,2.782337905183789,0.8660477385369355,7.635262961865373,3.414221218449957,0.9656938235135238,-1.5388454960756732,2.0413491318252825,0.3487523362305881,4.408610170226141,4.611198373223466,-4.6596816108292325,3.0297199213213766,1.2769621437963417,0.15349446965091812,0.8833411599924025,0.21143779240625352,1.9228780687384202,7.206996801431521,4.218791789147001,-1.2774337865541419,-0.21497465821829304,-3.403416530678673,1.545334021815616,1.5886137498826993,3.2594672330357897,5.5366109021931456,4.891939764323037,1.955293250705855,4.020538988819629,-3.265104966021237,-4.077591833143654,3.224874145686417,0.3330156980721656,0.15195936081490136,2.7335662146901716,4.655246654683653,1.473112184541507,6.167408871624923,1.7186941170444279,-1.0224111704126189,2.319158352976208,-2.953349797215636,3.862961809913884,1.9861299761003866,2.5736439147814654,-2.759944576115896,-2.8784087223960935,4.987453615652497,4.0296085104895925,3.670491708026819,4.350510705939954,4.2894748759879,-4.130510129162082,-1.638541172086707,-0.289617320080401,2.6466629794762873,0.8629144706969107,2.9869009396900035,-2.943170446126146,-1.09841784296494,1.6831203579877767,0.16643588914488255,0.8900679323655126,1.0615478000254335,3.0005326031314588,-1.5568413528427254,6.176881108945328,4.253249139046299,-4.890452858505007,3.4763845142798666,-7.187896147124849,4.2786332545592645,-7.163493475200004,5.093176889011377,4.383157425478327,1.2406627091119782,1.1922281140386215,3.2232697056492743,6.023109778839611,4.278816955649234,7.410419078419434,6.8818894317278545,1.712272524591152,-2.2112865717123174,2.424698818401803,-1.022865741828685,-1.8320963297224953,4.226567555120651,-4.571452160844746,-2.0034781124213175,-2.6956561373856784,-2.7815785572186122,-0.11946159490349403,-1.5705450851426133,-6.502363216395657,-3.692952524308753,-3.8014551807249246,-1.3055324329544746,-0.036957135521550985,-3.260833597398448,-2.4383747492478243,2.2173020537516233,-4.101932365642129,-8.363397317990817,-8.627810338034829,-5.062132485905022,-8.453974081673787,4.697407587900863,0.2692011948860704,-1.839529957465463,-0.23741193666970464,-0.3921412527344551,-6.157772425197189,1.3645593563423297,0.5297762753301756,-4.675138448883639,-4.85278084540197,-2.64697230304538,0.2343486182222026,-6.616228751941559,-1.8521458464899732,3.1630904362057497,-1.6082752662526116,-5.705855468057461,4.419855954947085,1.0181943024804998,1.4608258903115612,1.2405581841557514,-0.6313695887180951,-0.5574572950761745,-3.2834963310944025,-0.8147444001015595,0.688407557605847,2.822729112327723,6.6234311546572995,-3.8371965641218386,-1.1377292676461792,-0.37703009053503395,-5.350616815168627,2.3034361021562764,0.9488634649525426,-1.7678394415897092,-1.4411871205164009,0.1283999100351794,-1.4815452527507103,-1.2895423080549728,0.7838848312510824,-0.2707024206201273,-1.5572889822218428,0.8961843705596616,1.0418449815603545,0.7947537324446241,-1.0333261920774952,-6.944833299179632,-7.815549514950876,-9.606247197766814,-6.622704198331896,-2.85715217221112,-2.5782850071393915,-2.7923943434335956,-2.452235395558847,-2.8823751998829206,-4.983159062645205,-3.1459735041483534,1.314711212491243,-0.8277377653104818,-0.6637131839940051,-0.9074037741131475,0.2998973326099261,-0.556523879069157,2.486826736039313,-0.6696128830659537,-1.9416810334240122,5.761225574124174,-10.043324089242136,-3.18294504852345,-0.0793354736179562,5.183099397292928,0.6063860253207407,-0.3385877841794203,2.5598871738081606,-5.131910847417511,-2.9616865387033435,-6.180762048131994,-2.2260510773662943,-1.4718183899932678,-0.8597719962688224,-2.7881978272548156,-2.4463020399794484,-4.04387257824528,4.618469200519421,-0.38975600861426957,-4.243013236492414,-1.417692414233584,-0.36387230156377565,-1.4016769033526675,-2.9281581574591855,-5.493706200079239,-1.5637310374498037,-0.661507104859944,-2.4277176639858475,-0.35263072155827274,-1.957568101821297,-2.328718311256823,0.527653235493049,-2.3463538055269426,-2.5012280964635316,-5.253115238110601,-0.026137283009681753,6.836359658098992,-3.8822746998321547,-4.625320336592088,-0.949178244116043,-4.431427285928962,-3.057241332237168,-3.8739610389973143,-4.956338121012132,-3.0028638676797663,-5.745350239842663,-3.832457293782259,-2.118031496681629,3.4045964180798465,-5.489637268641695,0.17520832893014704,-3.293896794968707,0.7259338425286415,-0.8204075058966601,-3.0172999550323536,-4.261127648497664,-1.6432298282475202,-1.591718627851953,-0.1621292506833498,-1.2013672904147306,-1.885438871874719,0.12203343854836712,-4.361279710194789,-4.573243488380587,4.080098945120957,-2.429332864818686,-7.957242184560764,0.4427315269736051,-1.952357522831007,-0.543914845336935,-1.7827340663872044,0.0006405917123929238,-1.7301379296328039,2.936833858775877,-3.3833358902078623,-2.809630459222105,-4.016924137952116,5.91147277930932,1.594052386634268,-2.128535799412221,3.544596420811775,-1.4999138282894382,-2.9525863818949647,4.656339565909718,1.4189250537955758,-2.075769777772351,-0.4380862037271295,-4.2701825726749725,0.3956183285341702,1.5241568195042814,-4.534228641441343,-1.992905294498982,-6.096449854281869,-3.1296465982895914,2.173632917152696,-0.7282194870238308,-6.1601542574976795,0.21091499318276696,-9.033600945320877,-1.9562143539855283,4.521855946136243,3.1964819565743485,3.596206154589815,4.811520545646761,-0.3985648132816628,-4.021017877889444,-1.1016095825716026,1.009080248042008,-6.06651028142977,2.321259343256278,-3.008581726869893,4.046033979706756,6.109865661756354,0.9876679517543907,4.981540445997269,3.1034439916868153,1.3707263881934473,-4.118685992903657,0.8475952486962306,3.6656954424749766,-1.343019246555191,-5.1033281650253635,-1.5794012459294724,7.357757731045923,-3.2946111994244744,-6.373045904145039,2.787873475747799,5.700756058592293],\"y\":[-2.1579873472556925,0.6778418959776481,-1.7386175515449964,1.1913235290111783,0.09964906630174038,-2.999652846741156,4.964389599855168,-2.2773930002737544,-3.4330377817909694,-0.15243165125942085,-1.3942084442475458,-3.113362386067893,-1.9879114327812906,4.33632649411977,1.593911016775898,-0.06323731133718936,-4.455700680326544,1.0068067713165463,-3.7061096486709135,1.9142721171432258,1.7334711710114008,2.2843190840319965,-0.10242097486526244,1.778423704606048,2.440277215914917,1.86223011047337,-3.1932224055413254,-3.246903677039841,-5.159466545403477,-4.2834851151952495,-1.46412438812202,4.1410295035929945,3.385684857000941,-1.860846757755994,0.002294050863299281,2.107985687067942,2.6009575669185363,-4.115376274737886,2.874420367761369,-2.410524947033807,-0.6522167818983226,-5.623407750821358,-0.002893948481023785,1.5858868408701128,-0.021033441716677332,2.165980422882394,-0.8478520197569586,0.5634730183678813,-0.902022866520684,-0.7527633986022022,-2.6532354182410662,0.2125647591984419,-5.306285698493578,-2.741908482481441,-1.340206021912656,0.2924929955289394,-2.0771292232706298,3.969823548064712,-4.029952635086678,1.499729561379828,2.3144894465522348,1.3022570843859087,-1.4099324275354674,-1.8853492431169332,-2.29190260579059,-3.38946758722459,-0.6657842583227431,-4.982710701434444,3.2799835440480507,-2.168880365918441,3.793505477029301,1.2671741197868494,2.1920859209261616,1.5710509297126152,1.7143923506133592,4.845326739449368,4.178128214368499,-1.003263349268039,2.883164205413987,-4.100299332717445,-0.5679806317772061,0.03937057013456154,1.6414591702759036,-1.2877787985146762,-0.6253869730101169,-3.037958248963242,-7.538197192305248,0.9362872624465464,0.8089934847610442,1.7487282680282472,-3.5643940321581677,1.9262173860041465,-4.057719303062166,0.28778190381222274,-0.8911509652057295,-1.0485309140170445,2.248764369247975,0.4125842197871145,4.596055817548537,-3.6429561870980387,-4.588769301507526,-1.1901454026836573,-4.944079070296853,1.1676598444306256,0.6838565597130519,1.8375294781917957,3.7637343184266316,-0.3253306537555117,-0.47200032108771706,0.35650373965957766,-2.594837982831677,0.8852450303343331,1.167991227324402,-1.5799935674030676,0.0621377095867928,-3.133051062274937,1.5870095062330976,-3.9696988669902162,3.1363751866977156,-1.9742926903345677,3.5597089317819677,-1.5663299688812242,-0.8457243996573951,-5.078686555782384,0.044036578475421584,-1.6454036620414447,1.7356018284590315,-2.9796622753564197,5.851874855689311,0.3630154861055225,2.2932899373359468,-2.0963371927439574,-2.318648309377482,-3.6094757691013437,-1.1090724832802732,-3.7717225966401373,0.22826178493393903,0.26257316724307195,-0.16650656156346266,-2.7363105085042876,-3.266081700402408,-1.7167481280412182,1.4783087902376335,1.8971182585948216,-2.1807805326289555,0.06968556398817616,2.3650283799227134,-0.9962641971044004,1.1902222917352836,2.3632257540034147,-2.563335267543568,3.187406058254071,0.55811776847756,1.975637823748742,-3.029022633411817,-3.2710972394321103,2.2612254721448846,0.11214351528660266,2.2192833083749264,1.9760440859086748,0.5370483227176309,0.8295718538406937,-1.5206376559289332,-0.6072147510815028,-3.309781354495708,-2.491201785251642,0.5571417520873255,4.844123313433944,-1.929505836489454,-0.9318874774990494,-2.56731248768259,-1.5471563683131027,0.9960811434398937,0.820338866048274,-0.058784972716851486,-1.9027328982902025,-0.14976617546877247,-1.1269756115635505,-1.7942355341684224,-0.20423360519488468,-0.9282343073296141,-2.7686766944439665,1.1992571304959738,-1.8696972998902595,-1.3380650256512718,-0.9993265825790261,0.28003898301132535,4.640349232651809,-2.0832949190091696,-1.3718166505142393,2.041855817040235,4.465049027437433,-0.4947104538294986,0.3198993624657828,3.906948915767269,3.2701275528571645,-3.96442245274009,-1.4098903730759793,-1.2419374397393896,-3.744916032197571,-1.3975569344084142,-4.409384878771714,3.167248610232727,3.7397883081484466,3.906806836237248,0.1403732124945486,0.03985809130334049,-3.011640654199004,0.6100196873558091,-5.453914330547921,2.5088408968539775,-3.781862850489799,-0.7779403586482747,3.570940146013984,-3.499545889719411,-2.7658073602626336,0.32732544517615114,3.7527557604801474,-1.037695109313692,0.15948712885312658,1.9926952777582925,0.9539269605461146,-1.5995305210311013,1.705019721224542,1.4839823734640736,-2.6664106406178325,-1.4107993763932345,2.4858586067093866,3.1737338129868684,1.4152147782308784,2.343188941780369,3.442341691037384,2.8569367156767806,1.812858147723287,2.2643915008223527,2.1992097040147325,-4.164456578115527,3.551886729699534,-2.923518862913539,0.5228988544996742,-1.9072750324951115,-4.16889732068389,3.1836165967683896,-2.017715958836593,-0.5458817516590566,-3.43473783067331,-2.947738842042828,-3.0953480885341333,-2.5147346238194266,-2.730931896969472,-2.5146091850001673,-2.2070184128666295,2.362622303768959,3.0205060974931195,-2.1523712868417957,-0.35256575041703164,2.1278092844322813,-0.7241986453614061,-1.2788686023951155,0.44470896171511953,4.428203233107003,-1.3048755600498074,4.407711754959477,-0.7480320670072633,-3.715489169228831,-4.022480277146893,-3.530683717969581,-2.193734317532694,-3.320171926186098,2.5192651448324535,-2.7237814510176315,-2.547615925781962,-2.7369774764957064,-2.0815658547061373,-1.3287583722164922,-0.9485043507235655,3.087249782473473,-1.2287942785240322,0.07365059375744773,-0.11504268643849692,-1.9772634978921577,-2.371906334229524,-2.625830367207608,0.5561863177384302,0.042719686651003994,-1.3395989386730287,2.7698385844875637,0.39384408682223554,3.6463703710641893,-1.7633251017947162,-3.6337469766707367,-2.429740991611654,-0.04355669700013979,-1.2204090263519927,-4.652100045774471,3.9749716010118203,4.100486765210054,0.2199969757858012,0.9599274877606795,3.814476990578377,4.357189706929891,-0.8277878720876527,4.0006629034910475,2.6630362321022396,-2.963755906324926,1.0546506300113567,3.8157602414154783,5.941887153996371,4.244140282742809,0.8204420627567584,0.428120203625108,-0.8571107905409084,-3.5314694662087556,-2.8638964770137765,1.543157089405619,-0.45682269652503177,4.4711259231453635,4.529484232956585,4.67490763445179,1.5295733816302435,0.9800415317301359,3.332381275939995,1.9521821816179026,-0.5372403702532715,-2.682009610949429,2.4889937405117815,-3.983285842411019,-4.02243802154748,-2.5344408534924296,2.7133211576029517,0.044944212933298575,-2.421350281530383,5.527859655454376,0.47903094190115847,3.5142582129456668,2.760796529423802,1.0273111136330546,-2.194980695432998,5.094852730526702,-0.5857770797892453,3.3261623685042423,0.5857716523534702,-1.912472085813047,-1.652846900268278,-1.1010333078109151,-2.3080862497400814,1.4205275374826711,-0.4617697258137384,2.480408853954881,5.2359107408933045,6.965604118959507,-3.6391353016558297,0.14957404047814418,-1.3268723913943044,0.7266754495645447,1.296861738681604,-3.0977112036306713,-1.6059538227669636,5.583872292160956,-1.7002986026635314,4.067904175165088,2.9196123563353464,2.2560973459877753,3.131050968405886,4.810685972952944,1.5251334146370463,0.8461677996736537,2.7957806271930066,-3.6533921046041162,2.9661002791174447,-1.6016985866518059,2.7986316205169546,-3.928543941310208,0.7328120016322034,2.3609821540145486,2.3305938446206955,4.203948712158859,6.089904780651091,1.071004361577179,3.5008291037510486],\"z\":[1.716593020585684,-2.1166581009751924,0.15954716675443942,-0.959614005601655,-0.4127709945660981,-3.8911506842909205,2.270830821994839,2.8901578482109533,2.536916680602055,0.3364776676590007,-3.547760786786512,3.288808588496126,1.8096100415571865,-1.0662445764671429,0.33067778600453945,1.6820047237384095,2.2205242716202487,-0.7079537417879453,1.2167164074865724,2.8499964103069493,-1.615399536874356,0.22043978674444084,-2.3835364760052373,0.8379308079422507,0.880247557191349,0.6195111190285341,-5.2726997178902195,1.7778827322569308,-0.24887037247869817,1.7061438212981608,-3.3477556325334783,3.5206372003995923,-3.4965907600175674,7.174544359011153,-1.5334361377012744,-1.677208862902859,-1.4053234538096562,1.838715248040545,-1.790969624942554,-1.0387823219111898,3.4996563841619928,0.5988967295399954,-1.748755141670141,0.6042296031269985,-1.7764055853425342,-1.4780347064308395,-4.254273624597966,1.2888217076416137,-0.09672490799235374,1.5630923721493664,-0.7356312546321463,-0.7601116290608665,1.972901950348223,-6.263608195102043,-0.04132235632371864,3.1375688875314833,1.8761810893190212,-0.4274950103538859,-1.9399950875024823,-4.749297206819503,0.3755263736633106,-0.6306112989359355,-6.0925244029131305,-1.5362053912019178,4.246883939624964,3.2647280612259815,-3.742535861567016,-1.4207352125498898,1.3106356956834762,-0.9332318335765121,-0.1067029057236932,-0.5131890772026135,-1.7300436129380212,-15.509221348912106,-2.184671255417178,4.15392918834701,-5.32261775266032,-8.796547474448792,-3.5755011691460554,4.214006481934136,0.47184189448085045,-3.383752078468621,2.797775764389005,-1.1663954769269644,1.3269054971902237,1.8648656660107301,2.605629825627756,1.3674013692028235,0.7616823409727764,-2.497668902279221,0.8343661111594396,-1.5346658781418967,-1.1462992210512712,-2.120456184512805,-0.7719535293774272,-2.465927407501613,2.074677496048173,-4.055809576690858,-1.4323285519438238,4.393871001060451,1.1537099201309053,1.2826033369754144,-2.034464772131426,1.4811579226098297,-0.10385659123255588,-1.9017059448416977,-3.5363883623375214,4.965621988892927,-1.9499214387876345,-1.7493589539953194,-2.07762915469502,-0.7542235224073742,2.7968941330077013,-1.799117825271738,-1.3249663230562532,4.4665904442792295,-3.142183758449287,2.9460115637052544,-1.3641642071625382,2.65608956873842,-0.27927073357722726,-2.4398485428141754,0.4576316195422927,0.7056794266517887,0.4379987392569578,-4.308886037871671,-2.048942676426303,0.3979503377644926,-0.29409717137032526,-1.6906039434631615,-2.388476185300747,-4.477779435939771,-3.112466831462316,-4.71665689418824,1.2701573952696104,-3.170391400634496,-2.1192147334684517,0.1842914254909252,-0.4468194575613782,4.073098938132626,2.061579316724104,0.4954778398980018,2.0992822721936046,-0.1959188989465576,-0.9984175553223343,4.043952206965511,-2.5957332693430875,3.802972673613796,-2.2841406340865316,5.554585172404106,1.8315191146363445,-8.761043445946614,-1.7141491731363871,-3.747109700320576,0.5323229103559574,0.3537732743835651,-2.2567488413452126,2.2784814898375068,-1.3350803089188161,-0.4909334308326498,2.341861896269579,-1.3095028858546598,1.9947274089134321,1.7731357691786904,-0.8862279558435376,-1.1355946469567535,1.8822443147600096,2.9679578326678917,-2.3667385124304254,-2.7870761661378713,-0.8917740416656329,-0.434714593994152,-0.42070120270798056,3.2109644770179213,1.012275159769215,2.2240676956246164,0.8299032469650625,1.1349242972363567,4.609324682440598,1.8287236282349746,1.688142099755039,4.901139937347012,-1.323615871400733,1.5222731218006713,3.3027630759765096,1.9033889798439008,-1.1338850411705974,0.6998741358673181,-1.7158600122182401,-1.659686671243631,3.8939795284374417,0.6527958902042078,1.1252448368924415,1.9915344169768603,2.214471375842651,4.489070922827708,-0.11279463518548866,-1.1717081535780707,0.7521925984646827,0.5474884752704888,1.3249157308577961,0.08213093085950042,4.024528204362483,-0.5253895189992319,0.25921280442461303,-0.5716706770493466,-1.5269284793283857,0.2293043281973954,2.85360554978134,2.6229128737640646,2.3861946371494653,-1.1839897816253067,-1.7014919140538427,-0.869101321081782,-1.4178387614364276,-1.4777590673554453,-1.7135179988950597,-0.7026543563049816,1.36484375672075,0.7667311793723419,0.6551134606547501,0.36943688995369556,-1.2929320165707157,1.0950603395316236,-2.0962781894963274,1.0120275500616358,0.011045094142736144,0.9153393677928345,1.40660498051474,-0.9228262309272127,-0.5061276076001497,0.2104434508797699,-2.6936273793726313,-4.935515482002038,-2.1208405448821983,-1.24204166069108,-0.4724730175719956,1.8397171241350236,0.07110723153282655,0.4662988210527474,2.172721255953698,-3.309570078811934,2.4355475792278076,0.8442869270358819,-1.046140597063217,0.9125137281864447,-0.10597633765737584,-0.05833787298605738,-0.4588301563722811,-0.2790336270790015,-0.570642085736343,-0.19267678102809427,-1.8939866015084077,2.992302326425869,0.8794015256783876,-0.39590477012589365,2.981059489602085,-0.7799530015189381,-0.8121381762676317,-0.3717017427491769,2.2185601259865857,-0.13779840348720224,2.5505981498475543,-2.271928539512646,0.3640124581033868,0.6890488048600699,-0.3003106348454599,-0.7631640294762289,0.7508757611941768,-0.8490793029093586,-0.2640428023077968,-0.22154418575326665,2.5230243646332564,1.275349558823271,-1.5357261712145995,-0.255234846287824,2.7904282366041993,-3.1154722190356035,-2.3945655501105088,-0.8258553932104343,1.0830581475441812,1.2912182094570734,-1.2156799814537687,1.2614285810931987,-0.6761274832184686,0.6560715467793666,-3.4470818054485735,1.4321408115318333,2.395320127097917,-0.06641535296726124,-0.876856096830261,-1.2520043600206496,2.6955760362263077,-0.623381842497184,1.5806060295051856,0.9907959296075671,-0.683722381075207,0.19510802561493926,1.3872907012282265,-2.4594121925984815,1.658250000129541,-2.658757362043477,-0.48619218021411986,1.2227842663069866,1.039958008122536,-1.806792423628262,-0.944563247598313,-4.151841305296129,-1.3134881411706456,0.4004386186655252,0.36381450382999836,-0.39326695705973386,-0.7341579065410128,0.7165401970726036,-2.4587890885395915,-0.42699890093366133,0.8497827083243322,1.4437401135626928,1.8599666339859606,0.32739170752739916,0.18785539680997304,2.5385294513045387,0.17772645428904443,-1.7348518113068716,-2.819625398796216,-0.38404044481947724,-0.001187581470917867,-1.5337800176370018,-1.0867752101070252,2.2059658454411775,1.8669169085830206,-1.3329493319603134,1.0124839818573421,2.0646249780103814,-2.326815427847372,0.2411435859601978,-0.725888450660246,-0.9563861296910062,1.3584696653193848,-2.2482918948533235,1.2752846815371606,-1.8754472162184492,-0.8970908209295684,-0.5885563125907454,-1.486071152029156,-0.07626990844040914,-2.734610791265358,1.2922776910875642,2.239761413197753,1.0636323363458409,2.586600639497618,-1.4867774148163606,0.2059961529646115,0.07004670033679498,2.403841858512158,0.2147509895446923,0.6777926529176281,-0.24979869710208974,-1.2550815227023906,-0.025329648410369304,1.3198724265762565,1.0911080375941582,3.830167787353921,1.7965643927339463,0.8754306539008828,2.0833243583659904,2.4023731800938655,1.9243893997997537,1.2482744139766102,3.954386476560471,2.7794672164038277,-0.8140131015393655,0.7313903585198058,0.9156876780833312,4.571669632668488,0.273567414398272,1.495300760723232,0.4775105057264121,0.8612328415042646,1.0844548980856739],\"type\":\"scatter3d\"}],                        {\"template\":{\"data\":{\"histogram2dcontour\":[{\"type\":\"histogram2dcontour\",\"colorbar\":{\"outlinewidth\":0,\"ticks\":\"\"},\"colorscale\":[[0.0,\"#0d0887\"],[0.1111111111111111,\"#46039f\"],[0.2222222222222222,\"#7201a8\"],[0.3333333333333333,\"#9c179e\"],[0.4444444444444444,\"#bd3786\"],[0.5555555555555556,\"#d8576b\"],[0.6666666666666666,\"#ed7953\"],[0.7777777777777778,\"#fb9f3a\"],[0.8888888888888888,\"#fdca26\"],[1.0,\"#f0f921\"]]}],\"choropleth\":[{\"type\":\"choropleth\",\"colorbar\":{\"outlinewidth\":0,\"ticks\":\"\"}}],\"histogram2d\":[{\"type\":\"histogram2d\",\"colorbar\":{\"outlinewidth\":0,\"ticks\":\"\"},\"colorscale\":[[0.0,\"#0d0887\"],[0.1111111111111111,\"#46039f\"],[0.2222222222222222,\"#7201a8\"],[0.3333333333333333,\"#9c179e\"],[0.4444444444444444,\"#bd3786\"],[0.5555555555555556,\"#d8576b\"],[0.6666666666666666,\"#ed7953\"],[0.7777777777777778,\"#fb9f3a\"],[0.8888888888888888,\"#fdca26\"],[1.0,\"#f0f921\"]]}],\"heatmap\":[{\"type\":\"heatmap\",\"colorbar\":{\"outlinewidth\":0,\"ticks\":\"\"},\"colorscale\":[[0.0,\"#0d0887\"],[0.1111111111111111,\"#46039f\"],[0.2222222222222222,\"#7201a8\"],[0.3333333333333333,\"#9c179e\"],[0.4444444444444444,\"#bd3786\"],[0.5555555555555556,\"#d8576b\"],[0.6666666666666666,\"#ed7953\"],[0.7777777777777778,\"#fb9f3a\"],[0.8888888888888888,\"#fdca26\"],[1.0,\"#f0f921\"]]}],\"heatmapgl\":[{\"type\":\"heatmapgl\",\"colorbar\":{\"outlinewidth\":0,\"ticks\":\"\"},\"colorscale\":[[0.0,\"#0d0887\"],[0.1111111111111111,\"#46039f\"],[0.2222222222222222,\"#7201a8\"],[0.3333333333333333,\"#9c179e\"],[0.4444444444444444,\"#bd3786\"],[0.5555555555555556,\"#d8576b\"],[0.6666666666666666,\"#ed7953\"],[0.7777777777777778,\"#fb9f3a\"],[0.8888888888888888,\"#fdca26\"],[1.0,\"#f0f921\"]]}],\"contourcarpet\":[{\"type\":\"contourcarpet\",\"colorbar\":{\"outlinewidth\":0,\"ticks\":\"\"}}],\"contour\":[{\"type\":\"contour\",\"colorbar\":{\"outlinewidth\":0,\"ticks\":\"\"},\"colorscale\":[[0.0,\"#0d0887\"],[0.1111111111111111,\"#46039f\"],[0.2222222222222222,\"#7201a8\"],[0.3333333333333333,\"#9c179e\"],[0.4444444444444444,\"#bd3786\"],[0.5555555555555556,\"#d8576b\"],[0.6666666666666666,\"#ed7953\"],[0.7777777777777778,\"#fb9f3a\"],[0.8888888888888888,\"#fdca26\"],[1.0,\"#f0f921\"]]}],\"surface\":[{\"type\":\"surface\",\"colorbar\":{\"outlinewidth\":0,\"ticks\":\"\"},\"colorscale\":[[0.0,\"#0d0887\"],[0.1111111111111111,\"#46039f\"],[0.2222222222222222,\"#7201a8\"],[0.3333333333333333,\"#9c179e\"],[0.4444444444444444,\"#bd3786\"],[0.5555555555555556,\"#d8576b\"],[0.6666666666666666,\"#ed7953\"],[0.7777777777777778,\"#fb9f3a\"],[0.8888888888888888,\"#fdca26\"],[1.0,\"#f0f921\"]]}],\"mesh3d\":[{\"type\":\"mesh3d\",\"colorbar\":{\"outlinewidth\":0,\"ticks\":\"\"}}],\"scatter\":[{\"fillpattern\":{\"fillmode\":\"overlay\",\"size\":10,\"solidity\":0.2},\"type\":\"scatter\"}],\"parcoords\":[{\"type\":\"parcoords\",\"line\":{\"colorbar\":{\"outlinewidth\":0,\"ticks\":\"\"}}}],\"scatterpolargl\":[{\"type\":\"scatterpolargl\",\"marker\":{\"colorbar\":{\"outlinewidth\":0,\"ticks\":\"\"}}}],\"bar\":[{\"error_x\":{\"color\":\"#2a3f5f\"},\"error_y\":{\"color\":\"#2a3f5f\"},\"marker\":{\"line\":{\"color\":\"#E5ECF6\",\"width\":0.5},\"pattern\":{\"fillmode\":\"overlay\",\"size\":10,\"solidity\":0.2}},\"type\":\"bar\"}],\"scattergeo\":[{\"type\":\"scattergeo\",\"marker\":{\"colorbar\":{\"outlinewidth\":0,\"ticks\":\"\"}}}],\"scatterpolar\":[{\"type\":\"scatterpolar\",\"marker\":{\"colorbar\":{\"outlinewidth\":0,\"ticks\":\"\"}}}],\"histogram\":[{\"marker\":{\"pattern\":{\"fillmode\":\"overlay\",\"size\":10,\"solidity\":0.2}},\"type\":\"histogram\"}],\"scattergl\":[{\"type\":\"scattergl\",\"marker\":{\"colorbar\":{\"outlinewidth\":0,\"ticks\":\"\"}}}],\"scatter3d\":[{\"type\":\"scatter3d\",\"line\":{\"colorbar\":{\"outlinewidth\":0,\"ticks\":\"\"}},\"marker\":{\"colorbar\":{\"outlinewidth\":0,\"ticks\":\"\"}}}],\"scattermapbox\":[{\"type\":\"scattermapbox\",\"marker\":{\"colorbar\":{\"outlinewidth\":0,\"ticks\":\"\"}}}],\"scatterternary\":[{\"type\":\"scatterternary\",\"marker\":{\"colorbar\":{\"outlinewidth\":0,\"ticks\":\"\"}}}],\"scattercarpet\":[{\"type\":\"scattercarpet\",\"marker\":{\"colorbar\":{\"outlinewidth\":0,\"ticks\":\"\"}}}],\"carpet\":[{\"aaxis\":{\"endlinecolor\":\"#2a3f5f\",\"gridcolor\":\"white\",\"linecolor\":\"white\",\"minorgridcolor\":\"white\",\"startlinecolor\":\"#2a3f5f\"},\"baxis\":{\"endlinecolor\":\"#2a3f5f\",\"gridcolor\":\"white\",\"linecolor\":\"white\",\"minorgridcolor\":\"white\",\"startlinecolor\":\"#2a3f5f\"},\"type\":\"carpet\"}],\"table\":[{\"cells\":{\"fill\":{\"color\":\"#EBF0F8\"},\"line\":{\"color\":\"white\"}},\"header\":{\"fill\":{\"color\":\"#C8D4E3\"},\"line\":{\"color\":\"white\"}},\"type\":\"table\"}],\"barpolar\":[{\"marker\":{\"line\":{\"color\":\"#E5ECF6\",\"width\":0.5},\"pattern\":{\"fillmode\":\"overlay\",\"size\":10,\"solidity\":0.2}},\"type\":\"barpolar\"}],\"pie\":[{\"automargin\":true,\"type\":\"pie\"}]},\"layout\":{\"autotypenumbers\":\"strict\",\"colorway\":[\"#636efa\",\"#EF553B\",\"#00cc96\",\"#ab63fa\",\"#FFA15A\",\"#19d3f3\",\"#FF6692\",\"#B6E880\",\"#FF97FF\",\"#FECB52\"],\"font\":{\"color\":\"#2a3f5f\"},\"hovermode\":\"closest\",\"hoverlabel\":{\"align\":\"left\"},\"paper_bgcolor\":\"white\",\"plot_bgcolor\":\"#E5ECF6\",\"polar\":{\"bgcolor\":\"#E5ECF6\",\"angularaxis\":{\"gridcolor\":\"white\",\"linecolor\":\"white\",\"ticks\":\"\"},\"radialaxis\":{\"gridcolor\":\"white\",\"linecolor\":\"white\",\"ticks\":\"\"}},\"ternary\":{\"bgcolor\":\"#E5ECF6\",\"aaxis\":{\"gridcolor\":\"white\",\"linecolor\":\"white\",\"ticks\":\"\"},\"baxis\":{\"gridcolor\":\"white\",\"linecolor\":\"white\",\"ticks\":\"\"},\"caxis\":{\"gridcolor\":\"white\",\"linecolor\":\"white\",\"ticks\":\"\"}},\"coloraxis\":{\"colorbar\":{\"outlinewidth\":0,\"ticks\":\"\"}},\"colorscale\":{\"sequential\":[[0.0,\"#0d0887\"],[0.1111111111111111,\"#46039f\"],[0.2222222222222222,\"#7201a8\"],[0.3333333333333333,\"#9c179e\"],[0.4444444444444444,\"#bd3786\"],[0.5555555555555556,\"#d8576b\"],[0.6666666666666666,\"#ed7953\"],[0.7777777777777778,\"#fb9f3a\"],[0.8888888888888888,\"#fdca26\"],[1.0,\"#f0f921\"]],\"sequentialminus\":[[0.0,\"#0d0887\"],[0.1111111111111111,\"#46039f\"],[0.2222222222222222,\"#7201a8\"],[0.3333333333333333,\"#9c179e\"],[0.4444444444444444,\"#bd3786\"],[0.5555555555555556,\"#d8576b\"],[0.6666666666666666,\"#ed7953\"],[0.7777777777777778,\"#fb9f3a\"],[0.8888888888888888,\"#fdca26\"],[1.0,\"#f0f921\"]],\"diverging\":[[0,\"#8e0152\"],[0.1,\"#c51b7d\"],[0.2,\"#de77ae\"],[0.3,\"#f1b6da\"],[0.4,\"#fde0ef\"],[0.5,\"#f7f7f7\"],[0.6,\"#e6f5d0\"],[0.7,\"#b8e186\"],[0.8,\"#7fbc41\"],[0.9,\"#4d9221\"],[1,\"#276419\"]]},\"xaxis\":{\"gridcolor\":\"white\",\"linecolor\":\"white\",\"ticks\":\"\",\"title\":{\"standoff\":15},\"zerolinecolor\":\"white\",\"automargin\":true,\"zerolinewidth\":2},\"yaxis\":{\"gridcolor\":\"white\",\"linecolor\":\"white\",\"ticks\":\"\",\"title\":{\"standoff\":15},\"zerolinecolor\":\"white\",\"automargin\":true,\"zerolinewidth\":2},\"scene\":{\"xaxis\":{\"backgroundcolor\":\"#E5ECF6\",\"gridcolor\":\"white\",\"linecolor\":\"white\",\"showbackground\":true,\"ticks\":\"\",\"zerolinecolor\":\"white\",\"gridwidth\":2},\"yaxis\":{\"backgroundcolor\":\"#E5ECF6\",\"gridcolor\":\"white\",\"linecolor\":\"white\",\"showbackground\":true,\"ticks\":\"\",\"zerolinecolor\":\"white\",\"gridwidth\":2},\"zaxis\":{\"backgroundcolor\":\"#E5ECF6\",\"gridcolor\":\"white\",\"linecolor\":\"white\",\"showbackground\":true,\"ticks\":\"\",\"zerolinecolor\":\"white\",\"gridwidth\":2}},\"shapedefaults\":{\"line\":{\"color\":\"#2a3f5f\"}},\"annotationdefaults\":{\"arrowcolor\":\"#2a3f5f\",\"arrowhead\":0,\"arrowwidth\":1},\"geo\":{\"bgcolor\":\"white\",\"landcolor\":\"#E5ECF6\",\"subunitcolor\":\"white\",\"showland\":true,\"showlakes\":true,\"lakecolor\":\"white\"},\"title\":{\"x\":0.05},\"mapbox\":{\"style\":\"light\"}}},\"scene\":{\"xaxis\":{\"title\":{\"text\":\"Component 1\"}},\"yaxis\":{\"title\":{\"text\":\"Component 2\"}},\"zaxis\":{\"title\":{\"text\":\"Component 3\"}}},\"title\":{\"text\":\"PCA of K-mers Features\"},\"width\":1200,\"height\":500},                        {\"responsive\": true}                    ).then(function(){\n",
       "                            \n",
       "var gd = document.getElementById('06385720-4f27-49b2-91ce-93be9606a001');\n",
       "var x = new MutationObserver(function (mutations, observer) {{\n",
       "        var display = window.getComputedStyle(gd).display;\n",
       "        if (!display || display === 'none') {{\n",
       "            console.log([gd, 'removed!']);\n",
       "            Plotly.purge(gd);\n",
       "            observer.disconnect();\n",
       "        }}\n",
       "}});\n",
       "\n",
       "// Listen for the removal of the full notebook cells\n",
       "var notebookContainer = gd.closest('#notebook-container');\n",
       "if (notebookContainer) {{\n",
       "    x.observe(notebookContainer, {childList: true});\n",
       "}}\n",
       "\n",
       "// Listen for the clearing of the current output cell\n",
       "var outputEl = gd.closest('.output');\n",
       "if (outputEl) {{\n",
       "    x.observe(outputEl, {childList: true});\n",
       "}}\n",
       "\n",
       "                        })                };                });            </script>        </div>"
      ]
     },
     "metadata": {},
     "output_type": "display_data"
    }
   ],
   "source": [
    "import plotly.graph_objs as go\n",
    "\n",
    "fig = go.Figure(data=[go.Scatter3d(\n",
    "    x=X_pca[:, 0],\n",
    "    y=X_pca[:, 1],\n",
    "    z=X_pca[:, 2],\n",
    "    mode='markers',\n",
    "    marker=dict(\n",
    "        size=3,\n",
    "        color=y,\n",
    "        colorscale='Viridis',\n",
    "        opacity=0.5\n",
    "    )\n",
    ")])\n",
    "\n",
    "fig.update_layout(scene=dict(\n",
    "                    xaxis_title='Component 1',\n",
    "                    yaxis_title='Component 2',\n",
    "                    zaxis_title='Component 3'),\n",
    "                  title='PCA of K-mers Features',\n",
    "                  width=1200,\n",
    "                  height=500)\n",
    "\n",
    "fig.show()"
   ]
  },
  {
   "cell_type": "markdown",
   "id": "f930d197-194a-4429-8f3a-8934e71c2cc4",
   "metadata": {},
   "source": [
    "* Utils"
   ]
  },
  {
   "cell_type": "code",
   "execution_count": 61,
   "id": "29cccb61-915a-4118-9039-101b5b1387bd",
   "metadata": {},
   "outputs": [],
   "source": [
    "def train_test(name, model, X_train, y_train, out=\"\"):\n",
    "    stratified_kfold = StratifiedKFold(n_splits=10, random_state=42, shuffle=True)\n",
    "    cv_scores = cross_val_score(model, X_train, y_train, cv=stratified_kfold, scoring='accuracy')\n",
    "    print(\"Cross-validated accuracy: {:.4f} ± {:.4f}\".format(np.mean(cv_scores), np.std(cv_scores)))\n",
    "\n",
    "    # Fit the model\n",
    "    model.fit(X_train, y_train)\n",
    "\n",
    "    # Save\n",
    "    result.append({\n",
    "        'name': model.__class__.__name__,\n",
    "        'model': model,\n",
    "        'train_score': np.mean(cv_scores),\n",
    "        'train_score_std': \"±\"+str(np.std(cv_scores)),\n",
    "        'feature_selection_method': \"PCA\",\n",
    "        'k-mer': k,\n",
    "        'feature': \"first \" + str(threshold * min(4**k, X.shape[0])) + \" most informative\"\n",
    "    })\n",
    "    #df_performance = pd.DataFrame(result)\n",
    "    #df_performance.to_csv(out, index=False)\n",
    "    return (np.mean(cv_scores), model, name)"
   ]
  },
  {
   "cell_type": "code",
   "execution_count": 62,
   "id": "de2b0726-187a-42b2-aabb-31df374ef027",
   "metadata": {},
   "outputs": [],
   "source": [
    "result = []\n",
    "path_result=f'../Output/PCA/result_k_{k}.csv'\n",
    "trained_model_history = {}\n",
    "fb_model_name = None\n",
    "fb_model = None\n",
    "fb_score = 0"
   ]
  },
  {
   "cell_type": "markdown",
   "id": "2a7c1c66-807f-4299-8617-f9d1143e93f3",
   "metadata": {},
   "source": [
    "* <span style=\"color:red\">Model 0</span>"
   ]
  },
  {
   "cell_type": "code",
   "execution_count": 76,
   "id": "7bdad5ce-2226-436c-a350-7f1b077310af",
   "metadata": {},
   "outputs": [],
   "source": [
    "model0 = Pipeline([\n",
    "    ('scaler', StandardScaler()),\n",
    "    ('pca', PCA(n_components=c)),\n",
    "    ('clf', GaussianProcessClassifier(kernel=1**2 * RBF(length_scale=1)))\n",
    "])"
   ]
  },
  {
   "cell_type": "code",
   "execution_count": 77,
   "id": "efca0792-8a6d-4afa-ada5-2f8664671650",
   "metadata": {},
   "outputs": [
    {
     "name": "stdout",
     "output_type": "stream",
     "text": [
      "Cross-validated accuracy: 0.8868 ± 0.0391\n"
     ]
    }
   ],
   "source": [
    "score, model, name = train_test(\"GaussianProcess\", model0, X, y, out=path_result)\n",
    "trained_model_history[score] = [model, name]"
   ]
  },
  {
   "cell_type": "markdown",
   "id": "a2bbff03-d903-4dbf-aeef-ea0ccaa63fe8",
   "metadata": {},
   "source": [
    "* <span style=\"color:red\">Model 1</span>"
   ]
  },
  {
   "cell_type": "code",
   "execution_count": 78,
   "id": "9b89d4b7-af0e-4de5-8679-2ff3aa1c494a",
   "metadata": {},
   "outputs": [],
   "source": [
    "model1 = Pipeline([\n",
    "    ('scaler', StandardScaler()),\n",
    "    ('pca', PCA(n_components=c)),\n",
    "    ('clf', LogisticRegression())\n",
    "])"
   ]
  },
  {
   "cell_type": "code",
   "execution_count": 79,
   "id": "31ada156-4513-4fdc-9f9a-fd9a7b9a0f38",
   "metadata": {},
   "outputs": [
    {
     "name": "stdout",
     "output_type": "stream",
     "text": [
      "Cross-validated accuracy: 0.8553 ± 0.0658\n"
     ]
    }
   ],
   "source": [
    "score, model, name = train_test(\"LogisticRegression\", model1, X, y, out=path_result)\n",
    "trained_model_history[score] = [model, name]"
   ]
  },
  {
   "cell_type": "markdown",
   "id": "8f2485ac-756b-44e7-b2a8-06c0396bd4c9",
   "metadata": {},
   "source": [
    "* <span style=\"color:red\">Model 2</span>"
   ]
  },
  {
   "cell_type": "code",
   "execution_count": 80,
   "id": "c02bbe6d-7229-493f-a9ac-65897767be61",
   "metadata": {},
   "outputs": [],
   "source": [
    "model2 = Pipeline([\n",
    "    ('scaler', StandardScaler()),\n",
    "    ('pca', PCA(n_components=c)),\n",
    "    ('clf', RandomForestClassifier(max_depth=128, max_features=16, n_estimators=300))\n",
    "])"
   ]
  },
  {
   "cell_type": "code",
   "execution_count": 81,
   "id": "ccba415f-778b-4278-b673-f389f3a0a032",
   "metadata": {},
   "outputs": [
    {
     "name": "stdout",
     "output_type": "stream",
     "text": [
      "Cross-validated accuracy: 0.8605 ± 0.0264\n"
     ]
    }
   ],
   "source": [
    "score, model, name = train_test(\"RandomForestClassifier\", model2, X, y, out=path_result)\n",
    "trained_model_history[score] = [model, name]"
   ]
  },
  {
   "cell_type": "markdown",
   "id": "58c2781f-d50d-464a-86d5-b1a04b89eca8",
   "metadata": {},
   "source": [
    "* <span style=\"color:red\">Model 3</span>"
   ]
  },
  {
   "cell_type": "code",
   "execution_count": 82,
   "id": "1fbd28fd-b1df-489b-9c8a-62cd26be4895",
   "metadata": {},
   "outputs": [],
   "source": [
    "model3 = Pipeline([\n",
    "    ('scaler', StandardScaler()),\n",
    "    ('pca', PCA(n_components=c)),\n",
    "    ('clf', SVC(kernel='linear',  C=0.1, gamma=0.001))\n",
    "])"
   ]
  },
  {
   "cell_type": "code",
   "execution_count": 83,
   "id": "d195cfa3-d384-443c-97fe-1b4c49bb7858",
   "metadata": {},
   "outputs": [
    {
     "name": "stdout",
     "output_type": "stream",
     "text": [
      "Cross-validated accuracy: 0.8605 ± 0.0577\n"
     ]
    }
   ],
   "source": [
    "score, model, name = train_test(\"SVC_linear\", model3, X, y, out=path_result)\n",
    "trained_model_history[score] = [model, name]"
   ]
  },
  {
   "cell_type": "markdown",
   "id": "cfd8068d-b092-434e-908d-9a4f63a326b2",
   "metadata": {},
   "source": [
    "* <span style=\"color:red\">Model 4</span>"
   ]
  },
  {
   "cell_type": "code",
   "execution_count": 84,
   "id": "2e148a5a-0125-4f69-8a10-5f3bcfb7a2bb",
   "metadata": {},
   "outputs": [],
   "source": [
    "model4 = Pipeline([\n",
    "    ('scaler', StandardScaler()),\n",
    "    ('pca', PCA(n_components=c)),\n",
    "    ('clf', XGBClassifier(objective='binary:logistic', max_depth=2, n_estimators=200))\n",
    "])"
   ]
  },
  {
   "cell_type": "code",
   "execution_count": 85,
   "id": "6a7f44fb-afcd-4cd3-859f-1e4962905958",
   "metadata": {},
   "outputs": [
    {
     "name": "stdout",
     "output_type": "stream",
     "text": [
      "Cross-validated accuracy: 0.8211 ± 0.0788\n"
     ]
    }
   ],
   "source": [
    "score, model, name = train_test(\"XGBClassifier\", model4, X, y, out=path_result)\n",
    "trained_model_history[score] = [model, name]"
   ]
  },
  {
   "cell_type": "markdown",
   "id": "8a49f35d-2ca6-4cd2-84f2-cbe8ac475e67",
   "metadata": {},
   "source": [
    "* <span style=\"color:red\">Model 5</span>"
   ]
  },
  {
   "cell_type": "code",
   "execution_count": 86,
   "id": "99cdedfb-df39-48c6-8e2f-00d4211882a9",
   "metadata": {},
   "outputs": [],
   "source": [
    "model5 = Pipeline([\n",
    "    ('scaler', StandardScaler()),\n",
    "    ('pca', PCA(n_components=c)),\n",
    "    ('clf', AdaBoostClassifier(algorithm=\"SAMME\", n_estimators=200))\n",
    "])"
   ]
  },
  {
   "cell_type": "code",
   "execution_count": 87,
   "id": "fd821dac-f723-4463-97a4-1ac68007c534",
   "metadata": {},
   "outputs": [
    {
     "name": "stdout",
     "output_type": "stream",
     "text": [
      "Cross-validated accuracy: 0.8263 ± 0.0647\n"
     ]
    }
   ],
   "source": [
    "score, model, name = train_test(\"AdaBoostClassifier\", model5, X, y, out=path_result)\n",
    "trained_model_history[score] = [model, name]"
   ]
  },
  {
   "cell_type": "markdown",
   "id": "f5924f5a-7393-45b8-8bf5-d9a19685c8df",
   "metadata": {},
   "source": [
    "* **Save best method**"
   ]
  },
  {
   "cell_type": "code",
   "execution_count": null,
   "id": "27b61dd9-31f6-4a43-b86f-e498b90fe081",
   "metadata": {},
   "outputs": [],
   "source": [
    "#joblib.dump(fb_model, f'./Output/ModelPickle/k{k}_[{fb_model_name}]_basic.joblib')"
   ]
  },
  {
   "cell_type": "code",
   "execution_count": null,
   "id": "f5911c8c-4ebb-4dc7-b071-7d76570d0dd5",
   "metadata": {},
   "outputs": [],
   "source": []
  },
  {
   "cell_type": "code",
   "execution_count": null,
   "id": "c442ee15-3480-4f99-8831-1c4a568b2bbd",
   "metadata": {},
   "outputs": [],
   "source": []
  }
 ],
 "metadata": {
  "kernelspec": {
   "display_name": "Python 3 (ipykernel)",
   "language": "python",
   "name": "python3"
  },
  "language_info": {
   "codemirror_mode": {
    "name": "ipython",
    "version": 3
   },
   "file_extension": ".py",
   "mimetype": "text/x-python",
   "name": "python",
   "nbconvert_exporter": "python",
   "pygments_lexer": "ipython3",
   "version": "3.11.7"
  }
 },
 "nbformat": 4,
 "nbformat_minor": 5
}
