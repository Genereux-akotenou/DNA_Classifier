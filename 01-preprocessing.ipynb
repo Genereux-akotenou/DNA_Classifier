{
 "cells": [
  {
   "cell_type": "markdown",
   "id": "5c2778f2-e48e-4274-92c1-6fc663121b2b",
   "metadata": {
    "editable": true,
    "slideshow": {
     "slide_type": ""
    },
    "tags": []
   },
   "source": [
    "<div style=\"hwidth: 100%; background-color: #ddd; overflow:hidden; \">\n",
    "    <div style=\"display: flex; justify-content: center; align-items: center; border-bottom: 10px solid #80c4e7; padding: 3px;\">\n",
    "        <h2 style=\"position: relative; top: 3px; left: 8px;\">S2 Project: DNA Classification - (part1: ETL)</h2>\n",
    "        <img style=\"position: absolute; height: 68px; top: -2px;; right: 18px\" src=\"./Content/Notebook-images/dna1.png\"/>\n",
    "    </div>\n",
    "    <div style=\"padding: 3px 8px;\">\n",
    "        <h4>Objectives:</h4>\n",
    "        The primary objective of this project is to develop predictive models for DNA sequence gene classification.\n",
    "        <h4>Dataset:</h4>\n",
    "        The dataset files contain genetic sequence data in FASTA format. The dataset consists of two files:\n",
    "        <ul>\n",
    "            <li>Arabidopsis_thaliana_BHLH_gene_Family.fasta</li>\n",
    "            <li>Arabidopsis_thaliana_CYP_gene_Family.fasta</li>\n",
    "        </ul>\n",
    "        <h4>Steps:</h4>\n",
    "        <ol>\n",
    "            <li>Read the genetic sequence data from the files.</li>\n",
    "            <li>Vectorize the data to prepare it for modeling.</li>\n",
    "            <li>Save the data in usable csv format</li>\n",
    "            <li>Define analysis approach we are going to take in this study</li>\n",
    "        </ol>\n",
    "    </div>    \n",
    "</div>"
   ]
  },
  {
   "cell_type": "markdown",
   "id": "28d538eb-39b2-4c68-97be-0de7f710ea77",
   "metadata": {},
   "source": [
    "### 1 - Importing utils\n",
    "The following code cells will import necessary libraries."
   ]
  },
  {
   "cell_type": "code",
   "execution_count": 14,
   "id": "d34e581c-3277-4b8c-9457-abb5b1afc43e",
   "metadata": {},
   "outputs": [],
   "source": [
    "import numpy as np\n",
    "import pandas as pd\n",
    "from sklearn.utils import shuffle, resample\n",
    "from tensorflow.keras.preprocessing.sequence import pad_sequences\n",
    "from sklearn.model_selection import train_test_split\n",
    "from sklearn.preprocessing import LabelEncoder\n",
    "import tensorflow as tf\n",
    "from tensorflow.keras import models, layers, Input, Sequential\n",
    "import matplotlib.pyplot as plt"
   ]
  },
  {
   "cell_type": "markdown",
   "id": "3107eda7-ba16-446e-8250-9dbd63a52edd",
   "metadata": {},
   "source": [
    "### 2 - Importing Dataset\n",
    "The following function will read each **.fasta file** and return a pandas dataframe in this format [**id** - **sequence** - **length** - **class**]"
   ]
  },
  {
   "cell_type": "code",
   "execution_count": 15,
   "id": "09a9cceb-5284-4872-a0f5-b8aef5936f02",
   "metadata": {},
   "outputs": [],
   "source": [
    "def read_fasta_file(file_path, family):\n",
    "    sequences = []\n",
    "    with open(file_path, 'r') as file:\n",
    "        current_id = None\n",
    "        current_sequence = ''\n",
    "        for line in file:\n",
    "            if line.startswith('>'):\n",
    "                if current_id:\n",
    "                    sequences.append({'id': current_id, 'sequence':current_sequence, 'length':len(current_sequence), 'class': family})\n",
    "                current_id = line.strip().split('|')[0][1:].strip()\n",
    "                current_sequence = ''\n",
    "            else:\n",
    "                current_sequence += line.strip()\n",
    "        if current_id:\n",
    "            sequences.append({'id': current_id, 'sequence':current_sequence, 'length':len(current_sequence), 'class': family})\n",
    "    \n",
    "    df = pd.DataFrame(sequences)\n",
    "    return df"
   ]
  },
  {
   "cell_type": "code",
   "execution_count": 16,
   "id": "e535dbc5-7435-4783-8d58-428f2f5e22a5",
   "metadata": {},
   "outputs": [
    {
     "data": {
      "text/html": [
       "<div>\n",
       "<style scoped>\n",
       "    .dataframe tbody tr th:only-of-type {\n",
       "        vertical-align: middle;\n",
       "    }\n",
       "\n",
       "    .dataframe tbody tr th {\n",
       "        vertical-align: top;\n",
       "    }\n",
       "\n",
       "    .dataframe thead th {\n",
       "        text-align: right;\n",
       "    }\n",
       "</style>\n",
       "<table border=\"1\" class=\"dataframe\">\n",
       "  <thead>\n",
       "    <tr style=\"text-align: right;\">\n",
       "      <th></th>\n",
       "      <th>id</th>\n",
       "      <th>sequence</th>\n",
       "      <th>length</th>\n",
       "      <th>class</th>\n",
       "    </tr>\n",
       "  </thead>\n",
       "  <tbody>\n",
       "    <tr>\n",
       "      <th>0</th>\n",
       "      <td>Achn199931 Actinidia chinensis</td>\n",
       "      <td>ATGGGAAGAGGAAAGATCGAGGTGAAGAGGATAGAGAACAACACAA...</td>\n",
       "      <td>714</td>\n",
       "      <td>kiwi</td>\n",
       "    </tr>\n",
       "    <tr>\n",
       "      <th>1</th>\n",
       "      <td>Achn100281 Actinidia chinensis</td>\n",
       "      <td>ATGACCGGCGACAGAGGGTTTTCTCCGATCGGCGGGGACCTACCGC...</td>\n",
       "      <td>2295</td>\n",
       "      <td>kiwi</td>\n",
       "    </tr>\n",
       "    <tr>\n",
       "      <th>2</th>\n",
       "      <td>Achn251771 Actinidia chinensis</td>\n",
       "      <td>ATGATCAACGGCTATCACAACCACAATCAGCATAATTTTACAGAGA...</td>\n",
       "      <td>1146</td>\n",
       "      <td>kiwi</td>\n",
       "    </tr>\n",
       "    <tr>\n",
       "      <th>3</th>\n",
       "      <td>Achn065501 Actinidia chinensis</td>\n",
       "      <td>ATGGAGGTCGTTTGTCTCAACAGTGAGCCAGTGTTTGACGACGGTG...</td>\n",
       "      <td>1992</td>\n",
       "      <td>kiwi</td>\n",
       "    </tr>\n",
       "    <tr>\n",
       "      <th>4</th>\n",
       "      <td>Achn103311 Actinidia chinensis</td>\n",
       "      <td>ATGGTAAAACATATTTCAAGCTCATCATCAGAAGGGGATGAGAGGT...</td>\n",
       "      <td>399</td>\n",
       "      <td>kiwi</td>\n",
       "    </tr>\n",
       "  </tbody>\n",
       "</table>\n",
       "</div>"
      ],
      "text/plain": [
       "                               id  \\\n",
       "0  Achn199931 Actinidia chinensis   \n",
       "1  Achn100281 Actinidia chinensis   \n",
       "2  Achn251771 Actinidia chinensis   \n",
       "3  Achn065501 Actinidia chinensis   \n",
       "4  Achn103311 Actinidia chinensis   \n",
       "\n",
       "                                            sequence  length class  \n",
       "0  ATGGGAAGAGGAAAGATCGAGGTGAAGAGGATAGAGAACAACACAA...     714  kiwi  \n",
       "1  ATGACCGGCGACAGAGGGTTTTCTCCGATCGGCGGGGACCTACCGC...    2295  kiwi  \n",
       "2  ATGATCAACGGCTATCACAACCACAATCAGCATAATTTTACAGAGA...    1146  kiwi  \n",
       "3  ATGGAGGTCGTTTGTCTCAACAGTGAGCCAGTGTTTGACGACGGTG...    1992  kiwi  \n",
       "4  ATGGTAAAACATATTTCAAGCTCATCATCAGAAGGGGATGAGAGGT...     399  kiwi  "
      ]
     },
     "execution_count": 16,
     "metadata": {},
     "output_type": "execute_result"
    }
   ],
   "source": [
    "# Data file path\n",
    "#gene_family_1 = \"./Content/Data/Arabidopsis_thaliana_BHLH_gene_Family.fasta\"\n",
    "#gene_family_2 = \"./Content/Data/Arabidopsis_thaliana_CYP_gene_Family.fasta\"\n",
    "gene_family_1 = \"./Content/Raw-Data/Ach_cds.fas\"\n",
    "gene_family_2 = \"./Content/Raw-Data/Csi_cds.fas\"\n",
    "\n",
    "# Convert to dataframe:\n",
    "dataset1 = read_fasta_file(gene_family_1, \"kiwi\")\n",
    "dataset2 = read_fasta_file(gene_family_2, \"Orange\")\n",
    "\n",
    "# Concatenate the two dataframes\n",
    "dataset = pd.concat([dataset1, dataset2], ignore_index=True)\n",
    "\n",
    "# Let's get a quick look at our dataset\n",
    "dataset.head()"
   ]
  },
  {
   "cell_type": "markdown",
   "id": "49e24c4e-4ccb-4283-831b-cca7b9d2e9be",
   "metadata": {},
   "source": [
    "### 3 - Exploratory analysis"
   ]
  },
  {
   "cell_type": "markdown",
   "id": "96b72a3d-15f4-43c7-b8bf-a6d0371d11d9",
   "metadata": {},
   "source": [
    "* Track null-value field"
   ]
  },
  {
   "cell_type": "code",
   "execution_count": 17,
   "id": "67de1b14-155b-44e7-a284-34f06dd3ecf8",
   "metadata": {},
   "outputs": [
    {
     "name": "stdout",
     "output_type": "stream",
     "text": [
      "<class 'pandas.core.frame.DataFrame'>\n",
      "RangeIndex: 4551 entries, 0 to 4550\n",
      "Data columns (total 4 columns):\n",
      " #   Column    Non-Null Count  Dtype \n",
      "---  ------    --------------  ----- \n",
      " 0   id        4551 non-null   object\n",
      " 1   sequence  4551 non-null   object\n",
      " 2   length    4551 non-null   int64 \n",
      " 3   class     4551 non-null   object\n",
      "dtypes: int64(1), object(3)\n",
      "memory usage: 142.3+ KB\n"
     ]
    }
   ],
   "source": [
    "dataset.info()"
   ]
  },
  {
   "cell_type": "markdown",
   "id": "f281cad3-3f51-4890-90f9-90677f5dbe93",
   "metadata": {},
   "source": [
    "**Note**: As we can see, our database contains 380 entries. In each column we have uniform data types and non-null data"
   ]
  },
  {
   "cell_type": "markdown",
   "id": "cd5d9a2e-b15f-4161-b415-85c80ca99717",
   "metadata": {},
   "source": [
    "* Track non coherent data"
   ]
  },
  {
   "cell_type": "code",
   "execution_count": 18,
   "id": "db44effb-8302-47d6-a4a7-b532aa87d3a3",
   "metadata": {},
   "outputs": [
    {
     "ename": "AssertionError",
     "evalue": "Error: Invalid characters found in sequence column",
     "output_type": "error",
     "traceback": [
      "\u001b[0;31m---------------------------------------------------------------------------\u001b[0m",
      "\u001b[0;31mAssertionError\u001b[0m                            Traceback (most recent call last)",
      "Cell \u001b[0;32mIn[18], line 2\u001b[0m\n\u001b[1;32m      1\u001b[0m pattern \u001b[38;5;241m=\u001b[39m \u001b[38;5;124mr\u001b[39m\u001b[38;5;124m'\u001b[39m\u001b[38;5;124m^[ATCG]+$\u001b[39m\u001b[38;5;124m'\u001b[39m\n\u001b[0;32m----> 2\u001b[0m \u001b[38;5;28;01massert\u001b[39;00m dataset[\u001b[38;5;124m'\u001b[39m\u001b[38;5;124msequence\u001b[39m\u001b[38;5;124m'\u001b[39m]\u001b[38;5;241m.\u001b[39mstr\u001b[38;5;241m.\u001b[39mmatch(pattern)\u001b[38;5;241m.\u001b[39mall(), \u001b[38;5;124m\"\u001b[39m\u001b[38;5;124mError: Invalid characters found in sequence column\u001b[39m\u001b[38;5;124m\"\u001b[39m\n",
      "\u001b[0;31mAssertionError\u001b[0m: Error: Invalid characters found in sequence column"
     ]
    }
   ],
   "source": [
    "pattern = r'^[ATCG]+$'\n",
    "assert dataset['sequence'].str.match(pattern).all(), \"Error: Invalid characters found in sequence column\""
   ]
  },
  {
   "cell_type": "markdown",
   "id": "52d86ef8-6ea3-4ad9-8708-71b8b5199fd5",
   "metadata": {},
   "source": [
    "**Note**: All sequences in the 'sequence' column contain only 'A', 'T', 'C', and 'G'. That sound good."
   ]
  },
  {
   "cell_type": "markdown",
   "id": "6c9575f6-6240-4e95-8ed7-d313cfdce27c",
   "metadata": {},
   "source": [
    "* Handling imbalanced data"
   ]
  },
  {
   "cell_type": "code",
   "execution_count": 25,
   "id": "b83e22de-30c6-43fd-9799-693ba7fd9547",
   "metadata": {},
   "outputs": [
    {
     "name": "stdout",
     "output_type": "stream",
     "text": [
      "Class Distribution:\n",
      "        Count  Percentage\n",
      "class                    \n",
      "kiwi     2296       50.45\n",
      "Orange   2255       49.55\n",
      "\n",
      "Total Samples: 4551\n"
     ]
    }
   ],
   "source": [
    "class_counts = dataset['class'].value_counts()\n",
    "total_samples = len(dataset)\n",
    "class_counts_df = pd.DataFrame(class_counts)\n",
    "class_counts_df.columns = ['Count']\n",
    "class_counts_df['Percentage'] = (class_counts_df['Count'] / total_samples * 100).round(2)\n",
    "\n",
    "print(\"Class Distribution:\")\n",
    "print(class_counts_df)\n",
    "print(\"\\nTotal Samples:\", total_samples)"
   ]
  },
  {
   "cell_type": "code",
   "execution_count": 26,
   "id": "baf54b34-619a-4a49-913c-6125ac662579",
   "metadata": {},
   "outputs": [
    {
     "name": "stdout",
     "output_type": "stream",
     "text": [
      "Imbalance Ratio: 1.018181818181818\n"
     ]
    }
   ],
   "source": [
    "# Calculate the imbalance ratio\n",
    "imbalance_ratio = class_counts_df['Count'].max() / class_counts_df['Count'].min()\n",
    "imbalance_threshold = 1.5\n",
    "print(\"Imbalance Ratio:\", imbalance_ratio)"
   ]
  },
  {
   "cell_type": "markdown",
   "id": "0652df33-9468-490d-be4b-33c3d6f55a2e",
   "metadata": {},
   "source": [
    "**Note**: We can see that our dataset is not significantly imbalanced since the imbalance ratio of 1.35 is not greater than the threshold value we set. Therefore, we do not need to create a balanced dataset. However, if necessary, techniques such as oversampling or undersampling can be used."
   ]
  },
  {
   "cell_type": "code",
   "execution_count": 27,
   "id": "772e4913-a4fa-4a0a-b930-ab65327e37ea",
   "metadata": {},
   "outputs": [],
   "source": [
    "def balance_dataset(df):\n",
    "    df_majority = df[df['class'] == 'kiwi']\n",
    "    df_minority = df[df['class'] == 'Orange']\n",
    "    \n",
    "    #df_minority_upsampled = resample(df_minority, replace=True, n_samples=len(df_majority), random_state=42)    \n",
    "    #df_balanced = pd.concat([df_majority, df_minority_upsampled], ignore_index=True)\n",
    "    \n",
    "    df_majority_undersampled = resample(df_majority, replace=False, n_samples=len(df_minority), random_state=42)    \n",
    "    df_balanced = pd.concat([df_majority_undersampled, df_minority], ignore_index=True)\n",
    "    return df_balanced\n",
    "\n",
    "if imbalance_ratio >= imbalance_threshold:\n",
    "    dataset = balance_dataset(dataset)\n",
    "    print(dataset['class'].value_counts())"
   ]
  },
  {
   "cell_type": "markdown",
   "id": "7b26e07c-69de-4ed8-96ed-bd139dc42d03",
   "metadata": {},
   "source": [
    "* Let encode label"
   ]
  },
  {
   "cell_type": "code",
   "execution_count": 28,
   "id": "b12ba339-893e-4896-bc54-ad4a46d3ee4f",
   "metadata": {},
   "outputs": [
    {
     "data": {
      "text/html": [
       "<div>\n",
       "<style scoped>\n",
       "    .dataframe tbody tr th:only-of-type {\n",
       "        vertical-align: middle;\n",
       "    }\n",
       "\n",
       "    .dataframe tbody tr th {\n",
       "        vertical-align: top;\n",
       "    }\n",
       "\n",
       "    .dataframe thead th {\n",
       "        text-align: right;\n",
       "    }\n",
       "</style>\n",
       "<table border=\"1\" class=\"dataframe\">\n",
       "  <thead>\n",
       "    <tr style=\"text-align: right;\">\n",
       "      <th></th>\n",
       "      <th>id</th>\n",
       "      <th>sequence</th>\n",
       "      <th>length</th>\n",
       "      <th>class</th>\n",
       "    </tr>\n",
       "  </thead>\n",
       "  <tbody>\n",
       "    <tr>\n",
       "      <th>0</th>\n",
       "      <td>Achn199931 Actinidia chinensis</td>\n",
       "      <td>ATGGGAAGAGGAAAGATCGAGGTGAAGAGGATAGAGAACAACACAA...</td>\n",
       "      <td>714</td>\n",
       "      <td>1</td>\n",
       "    </tr>\n",
       "    <tr>\n",
       "      <th>1</th>\n",
       "      <td>Achn100281 Actinidia chinensis</td>\n",
       "      <td>ATGACCGGCGACAGAGGGTTTTCTCCGATCGGCGGGGACCTACCGC...</td>\n",
       "      <td>2295</td>\n",
       "      <td>1</td>\n",
       "    </tr>\n",
       "    <tr>\n",
       "      <th>2</th>\n",
       "      <td>Achn251771 Actinidia chinensis</td>\n",
       "      <td>ATGATCAACGGCTATCACAACCACAATCAGCATAATTTTACAGAGA...</td>\n",
       "      <td>1146</td>\n",
       "      <td>1</td>\n",
       "    </tr>\n",
       "    <tr>\n",
       "      <th>3</th>\n",
       "      <td>Achn065501 Actinidia chinensis</td>\n",
       "      <td>ATGGAGGTCGTTTGTCTCAACAGTGAGCCAGTGTTTGACGACGGTG...</td>\n",
       "      <td>1992</td>\n",
       "      <td>1</td>\n",
       "    </tr>\n",
       "    <tr>\n",
       "      <th>4</th>\n",
       "      <td>Achn103311 Actinidia chinensis</td>\n",
       "      <td>ATGGTAAAACATATTTCAAGCTCATCATCAGAAGGGGATGAGAGGT...</td>\n",
       "      <td>399</td>\n",
       "      <td>1</td>\n",
       "    </tr>\n",
       "  </tbody>\n",
       "</table>\n",
       "</div>"
      ],
      "text/plain": [
       "                               id  \\\n",
       "0  Achn199931 Actinidia chinensis   \n",
       "1  Achn100281 Actinidia chinensis   \n",
       "2  Achn251771 Actinidia chinensis   \n",
       "3  Achn065501 Actinidia chinensis   \n",
       "4  Achn103311 Actinidia chinensis   \n",
       "\n",
       "                                            sequence  length  class  \n",
       "0  ATGGGAAGAGGAAAGATCGAGGTGAAGAGGATAGAGAACAACACAA...     714      1  \n",
       "1  ATGACCGGCGACAGAGGGTTTTCTCCGATCGGCGGGGACCTACCGC...    2295      1  \n",
       "2  ATGATCAACGGCTATCACAACCACAATCAGCATAATTTTACAGAGA...    1146      1  \n",
       "3  ATGGAGGTCGTTTGTCTCAACAGTGAGCCAGTGTTTGACGACGGTG...    1992      1  \n",
       "4  ATGGTAAAACATATTTCAAGCTCATCATCAGAAGGGGATGAGAGGT...     399      1  "
      ]
     },
     "execution_count": 28,
     "metadata": {},
     "output_type": "execute_result"
    }
   ],
   "source": [
    "dataset['class'] = LabelEncoder().fit_transform(dataset['class'])\n",
    "\n",
    "output_path   = \"./Output/kiwi_orange_cds.csv\"\n",
    "dataset.to_csv(output_path, index=False)\n",
    "\n",
    "dataset.head()"
   ]
  },
  {
   "cell_type": "markdown",
   "id": "00556254-40a8-4140-a7ba-ed1db88547ac",
   "metadata": {},
   "source": [
    "**Note**: <span style=\"color:red;\">This marks the end of the Extract, Transform, and Load (ETL) process</span> we performed on our FASTA file to obtain a CSV file, which is commonly used in most AI projects. Now, we will move to the next notebook where we will use the CSV output file and try different machine learning techniques easly."
   ]
  },
  {
   "cell_type": "markdown",
   "id": "5848efba-abf3-4d21-9caa-e56de3c3912a",
   "metadata": {},
   "source": [
    "### 4 - Analysis appraoch\n",
    "To classify DNA sequences, we can explore several approaches, each with its own strengths and weaknesses. Here are some detailed methods we will examine in the next notebook:"
   ]
  },
  {
   "cell_type": "markdown",
   "id": "ee34bcf8-0296-4d01-819e-61bcad0e26c1",
   "metadata": {},
   "source": [
    "<div style=\"background-color: #f5f5f5; padding: 1px .5em;\">\n",
    "    \n",
    "<!-- ************************************************ -->\n",
    "<h4 style=\"background-color: #80c4e6; padding: .5em;\">\n",
    "    Approach 1: k-mer Representation with Frequency Analysis on ML classsic model\n",
    "</h4>\n",
    "\n",
    "1. **Description**:\n",
    "   - Break the DNA sequence into k-mers (subsequences of length k).\n",
    "   - Perform frequency analysis to create a feature vector based on the occurrence of each k-mer.\n",
    "   - Use this feature vector as input to the model.\n",
    "\n",
    "2. **Pros**:\n",
    "   - Captures local context within each k-mer.\n",
    "   - Simplifies the input representation by reducing it to frequency counts.\n",
    "\n",
    "3. **Cons**:\n",
    "   - Loses positional information beyond the k-mer length.\n",
    "   - Treating it as a [bag-of-words](https://en.wikipedia.org/wiki/Bag-of-words_model) model ignores the order of k-mers.\n",
    "\n",
    "4. **Todo**:\n",
    "   - Try model for various length of k-mer\n",
    "   - Try feature selection and/or  dimenssion reduction as k grow<br><br>\n",
    "   - [<span style=\"padding: .5em; background-color: #dddddd;\">Click to Open Notebook 2</span>](./02-approach1_kmer_classic_ml.ipynb)\n",
    "\n",
    "<!-- ************************************************ -->\n",
    "<h4 style=\"background-color: #80c4e6; padding: .5em;\">\n",
    "    Approach 2: k-mer Representation with Frequency Analysis on Neural Network Architecture\n",
    "</h4>\n",
    "\n",
    "\n",
    "1. <strong>Description</strong>:\n",
    "   - In this approach, we represent DNA sequences using k-mer frequencies. Each sequence is encoded as a vector where each element represents the frequency of a specific k-mer in the sequence. This vector representation is then used as input to a neural network architecture for classification.\n",
    "\n",
    "2. <strong>Pros</strong>:\n",
    "   - Utilizes frequency analysis: By representing sequences based on the frequency of k-mers, the model can capture important patterns and motifs in the DNA sequences.\n",
    "   - Flexible architecture: Neural networks provide a flexible framework for learning complex relationships between features, allowing the model to adapt to different types of data.\n",
    "\n",
    "3. <strong>Cons</strong>:\n",
    "   - Curse of dimensionality: Depending on the value of k and the size of the alphabet (e.g., DNA bases A, C, G, T), the feature space can become very large, leading to increased computational complexity and potential overfitting.\n",
    "   - Loss of sequence information: By focusing solely on k-mer frequencies, the model may overlook important sequential dependencies and structural information present in the DNA sequences.\n",
    "\n",
    "4. **Todo**:<br><br>\n",
    "   - [<span style=\"padding: .5em; background-color: #dddddd;\">Click to Open Notebook 3</span>](./03-approach2_kmer_neural_network.ipynb)\n",
    "     \n",
    "<!-- ************************************************ -->\n",
    "<h4 style=\"background-color: #80c4e6; padding: .5em;\">\n",
    "    Approach 3: Single Nucleotide as a Token for Neural Network Architecture\n",
    "</h4>\n",
    "\r",
    "1. **Description**:\r",
    "    - Treat each base (A, T, C, G) as a single token.\r",
    "    - Encode each base numerically (e.g., A=0, T=1, C=2, G=3).\r",
    "    - Train a model on the sequence of encoded bases.\r",
    "\r",
    "2. **Pros**:\r",
    "    - Simple and straightforward.\r",
    "    - Preserves the positional information of each base.\r",
    "\r",
    "3. **Cons*:\r",
    "    - Limited contextual information.\r",
    "    - May not capture long-range dependencies well.\r",
    "\r",
    "4. **Todo**:\n",
    "   - [<span style=\"padding: .5em; background-color: #dddddd;\">Click to Open Notebook 3</span>](./04-approach3_single_nucleotide_encoding.ipynb)\n",
    "\n",
    "\n",
    "<h4 style=\"background-color: #80c4e6; padding: .5em;\">\n",
    "    Approach 4: k-mer Representation with One-Hot Encoding and Pretrained embedding for Neural Network\n",
    "</h4>\n",
    "\n",
    "1. <strong>Description</strong>:\n",
    "   - In this approach, DNA sequences are treadted as Natural Language Problem\n",
    "\n",
    "2. <strong>Pros</strong>:\n",
    "   - Incorporates pre-trained embeddings: By leveraging pre-trained embeddings, the model can benefit from knowledge learned from a large dataset.\n",
    "   - We wanna see if this pretrained model is effective: https://github.com/pnpnpn/dna2vec\n",
    "   - Using tranformer model we wanna also check this https://github.com/jerryji1993/DNABERT\n",
    "\n",
    "3. <strong>Cons</strong>:\n",
    "   - Dimensionality of one-hot encoding: One-hot encoding results in high-dimensional input vectors\n",
    "   - Limited transferability of embeddings\n",
    "     \n",
    "4. **Todo**:<br><br>\n",
    "   - [<span style=\"padding: .5em; background-color: #dddddd;\">Click to Open Notebook 4</span>](./05-approach4_kmer_onehot_and_dna2vec.ipynb)\n",
    "\n",
    "<!--\n",
    "<h4 style=\"background-color: #80c4e6; padding: .5em;\">\n",
    "    Approach 1: k-mer Representation with one-hot encoding for Neural Network architecture\n",
    "</h4>\n",
    "    \n",
    "1. **Description**:\n",
    "   - Treat each base (A, T, C, G) as a single token.\n",
    "   - Encode each base numerically (e.g., A=0, T=1, C=2, G=3).\n",
    "   - Train a model on the sequence of encoded bases.\n",
    "\n",
    "2. **Pros**:\n",
    "   - Simple and straightforward.\n",
    "   - Preserves the positional information of each base.\n",
    "\n",
    "3. **Cons**:\n",
    "   - Limited contextual information.\n",
    "   - May not capture long-range dependencies well.\n",
    "\n",
    "4. **Todo**:\n",
    "   - [<span style=\"padding: .5em; background-color: #dddddd;\">Click to Open Notebook 1</span>](./02-approach1_single_nucleotide_position.ipynb)\n",
    "-->\n",
    "      \n",
    "<!--4. **Todo**:\n",
    "   - This approach can be effective for simpler classification tasks or when the sequences are short.\n",
    "   - We will try models like Recurrent Neural Networks (RNNs) or Convolutional Neural Networks (CNNs) that can capture sequence information.-->\n",
    "\n",
    "<!--\n",
    "<h4 style=\"background-color: #80c4e6; padding: .5em;\">\n",
    "    Approach 3: k-mer Representation with Position Analysis\n",
    "</h4>\n",
    "\n",
    "1. **Description**:\n",
    "   - Break the DNA sequence into k-mers.\n",
    "   - Use embeddings to represent each k-mer, capturing more complex relationships and context.\n",
    "   - Train a model using these embeddings.\n",
    "\n",
    "2. **Pros**:\n",
    "   - Captures richer contextual information through embeddings.\n",
    "   - Can capture long-range dependencies if using advanced embedding techniques (e.g., BERT).\n",
    "\n",
    "3. **Cons**:\n",
    "   - More complex and computationally intensive.\n",
    "   - Requires large amounts of data to train effective embeddings.\n",
    "\n",
    "4. **Todo**:\n",
    "   - [<span style=\"padding: .5em; background-color: #dddddd;\">Click to Open Notebook 3 \\[FROM SCRATCH MODEL\\] </span>](./04-approach3_kmer_position(from_scratch).ipynb)\n",
    "     \n",
    "   - [<span style=\"padding: .5em; background-color: #dddddd;\">Click to Open Notebook 4 [TRANSFERT LEARNING ] </span>](./05-approach3_kmer_position(transfert_learning).ipynb)\n",
    "      -->\n",
    "\n",
    "\n",
    "<!--4. **Recommendation**:\n",
    "   - This approach is powerful for capturing complex patterns in DNA sequences.\n",
    "   - Suitable for deep learning models like Transformers, which can handle long-range dependencies and positional encoding.\n",
    "   - Consider pretraining embeddings on a large corpus of DNA sequences and fine-tuning for your specific task.-->\n",
    "\n",
    "<!--\n",
    "<h4 style=\"background-color: #80c4e6; padding: .5em;\">\n",
    "    Approach 4: Hybrid Models\n",
    "</h4>\n",
    "\n",
    "- **Hybrid Approaches**: Combining different approaches might yield better results. For example, you can use k-mers with embeddings and incorporate positional encoding to preserve sequence order.\n",
    "- **Model Selection**: The choice of model significantly impacts the performance. Here are some suggestions:\n",
    "  - **RNNs/LSTMs**: Good for capturing sequential dependencies.\n",
    "  - **CNNs**: Effective for capturing local patterns and motifs in sequences.\n",
    "  - **Transformers**: Excellent for capturing long-range dependencies and complex patterns with attention mechanisms.\n",
    "- **Hyperparameter Tuning**: Experiment with different values of k (e.g., k=3, 4, 5, 6) and tune hyperparameters to find the optimal setup.\n",
    "- **Evaluation**: Use cross-validation and metrics like accuracy, precision, recall, and F1-score to evaluate the performance of different approaches.\n",
    "</div>\n",
    "-->"
   ]
  },
  {
   "cell_type": "code",
   "execution_count": null,
   "id": "cdbc794f-25cc-4cca-9b04-0f2667e9f6d7",
   "metadata": {},
   "outputs": [],
   "source": []
  },
  {
   "cell_type": "code",
   "execution_count": null,
   "id": "24590618-ea0e-4846-a42f-1d9d1a98cdc3",
   "metadata": {},
   "outputs": [],
   "source": []
  },
  {
   "cell_type": "code",
   "execution_count": null,
   "id": "bd62ed23-62fa-4717-9e0d-ca33671edb25",
   "metadata": {},
   "outputs": [],
   "source": []
  },
  {
   "cell_type": "code",
   "execution_count": null,
   "id": "972894b3-52ab-443f-a082-32ce8fd4db67",
   "metadata": {},
   "outputs": [],
   "source": []
  }
 ],
 "metadata": {
  "kernelspec": {
   "display_name": "Python 3 (ipykernel)",
   "language": "python",
   "name": "python3"
  },
  "language_info": {
   "codemirror_mode": {
    "name": "ipython",
    "version": 3
   },
   "file_extension": ".py",
   "mimetype": "text/x-python",
   "name": "python",
   "nbconvert_exporter": "python",
   "pygments_lexer": "ipython3",
   "version": "3.11.7"
  }
 },
 "nbformat": 4,
 "nbformat_minor": 5
}
