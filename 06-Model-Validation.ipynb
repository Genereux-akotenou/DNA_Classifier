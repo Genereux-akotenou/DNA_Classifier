{
 "cells": [
  {
   "cell_type": "markdown",
   "id": "79350bfc-05fe-4b1c-bcbb-a24ac8c29abc",
   "metadata": {},
   "source": [
    "<div style=\"hwidth: 100%; background-color: #ddd; overflow:hidden; \">\n",
    "    <div style=\"display: flex; justify-content: center; align-items: center; border-bottom: 10px solid #80c4e7; padding: 3px;\">\n",
    "        <h2 style=\"position: relative; top: 3px; left: 8px;\">S2 Project: DNA Classification - (<span style=\"color: red;\">Model validation</span>)</h2>\n",
    "        <img style=\"position: absolute; height: 68px; top: -2px;; right: 18px\" src=\"./Content/Notebook-images/dna1.png\"/>\n",
    "    </div>\n",
    "    <div style=\"padding: 3px 8px;\">\n",
    "        \n",
    "1. **Objectives**:\n",
    "   - In this section we are going to make classification on our previous best model for this unseen <span style=\"color: red;\">bHLH</span> new test set to asses the overall perfomance on new data\n",
    "    </div>    \n",
    "</div>"
   ]
  },
  {
   "cell_type": "markdown",
   "id": "6a337724-12a8-422f-b7e5-0f2a0cd1347b",
   "metadata": {},
   "source": [
    "### 1 - Importing utils\n",
    "The following code cells will import necessary libraries."
   ]
  },
  {
   "cell_type": "code",
   "execution_count": 17,
   "id": "cf05ff3e-e937-4a17-92fa-c01bc4154ecf",
   "metadata": {},
   "outputs": [],
   "source": [
    "import random\n",
    "import string\n",
    "import numpy as np\n",
    "import pandas as pd\n",
    "from sklearn.utils import shuffle, resample\n",
    "from tensorflow.keras.preprocessing.sequence import pad_sequences\n",
    "from sklearn.model_selection import train_test_split\n",
    "from sklearn.preprocessing import LabelEncoder\n",
    "import tensorflow as tf\n",
    "from tensorflow.keras import models, layers, Input, Sequential\n",
    "import matplotlib.pyplot as plt\n",
    "from sklearn.feature_extraction import DictVectorizer\n",
    "import seaborn as sns\n",
    "from IPython.display import display, HTML\n",
    "from sklearn.metrics import (\n",
    "    confusion_matrix, \n",
    "    classification_report, \n",
    "    accuracy_score, \n",
    "    f1_score, \n",
    "    recall_score, \n",
    "    precision_score\n",
    ")\n",
    "import joblib\n",
    "import itertools"
   ]
  },
  {
   "cell_type": "code",
   "execution_count": 18,
   "id": "0dc910a2-b57d-4564-8072-811c3564199d",
   "metadata": {},
   "outputs": [],
   "source": [
    "def read_fasta_file(file_path, family):\n",
    "    \"\"\"\n",
    "    Utils: Convert fasta file to dataframe\n",
    "    \"\"\"\n",
    "    sequences = []\n",
    "    with open(file_path, 'r') as file:\n",
    "        current_id = None\n",
    "        current_sequence = ''\n",
    "        for line in file:\n",
    "            if line.startswith('>'):\n",
    "                if current_id:\n",
    "                    sequences.append({'id': current_id, 'sequence':current_sequence, 'length':len(current_sequence), 'class': family})\n",
    "                current_id = line.strip().split('|')[0][1:].strip()\n",
    "                current_sequence = ''\n",
    "            else:\n",
    "                current_sequence += line.strip()\n",
    "        if current_id:\n",
    "            sequences.append({'id': current_id, 'sequence':current_sequence, 'length':len(current_sequence), 'class': family})\n",
    "    \n",
    "    df = pd.DataFrame(sequences)\n",
    "    return df"
   ]
  },
  {
   "cell_type": "code",
   "execution_count": 19,
   "id": "80b28228-b078-4e0f-9284-0f082386df4f",
   "metadata": {},
   "outputs": [],
   "source": [
    "def kmer_count(sequence, k=3, step=1):\n",
    "    \"\"\"\n",
    "    Utils: to count kmer occurence in DNA sequence and compute frequence\n",
    "    \"\"\"\n",
    "    kmers = [''.join(p) for p in itertools.product('ACGT', repeat=k)]\n",
    "    kmers_count = {kmer: 0 for kmer in kmers}\n",
    "    s = 0\n",
    "    for i in range(0, len(sequence) - k + 1, step):\n",
    "        kmer = sequence[i:i + k]\n",
    "        s += 1\n",
    "        kmers_count[kmer] += 1\n",
    "    for key, value in kmers_count.items():\n",
    "        kmers_count[key] = value / s\n",
    "\n",
    "    return kmers_count"
   ]
  },
  {
   "cell_type": "code",
   "execution_count": 20,
   "id": "14e7ab21-6c3d-4d23-97ee-f9a19f0aee70",
   "metadata": {},
   "outputs": [],
   "source": [
    "def build_kmer_representation(df, k=3):\n",
    "    \"\"\"\n",
    "    Utils: For given k-mer generate dataset and return vectorised version\n",
    "    \"\"\"\n",
    "    sequences   = df['sequence']\n",
    "    kmers_count = []\n",
    "    for i in range(len(sequences)):\n",
    "        kmers_count.append(kmer_count(sequences[i], k=k, step=1))\n",
    "        \n",
    "    v = DictVectorizer(sparse=False)\n",
    "    feature_values = v.fit_transform(kmers_count)\n",
    "    feature_names = v.get_feature_names_out()\n",
    "    X = pd.DataFrame(feature_values, columns=feature_names)\n",
    "    y = dataset['class']\n",
    "    return X, y, feature_names"
   ]
  },
  {
   "cell_type": "code",
   "execution_count": 21,
   "id": "20a55e1f-5644-440b-bd15-23805fd29129",
   "metadata": {},
   "outputs": [],
   "source": [
    "def test_report(X_test, y_test, model=None, args=[\"MODEL NAME\", 0]):\n",
    "    \"\"\"\n",
    "    Utils: For given model, and test data we run prediction and report peformance metrics\n",
    "    \"\"\"\n",
    "    y_pred = model.predict(X_test)\n",
    "    cm = confusion_matrix(y_test, y_pred)\n",
    "    accuracy = accuracy_score(y_test, y_pred)\n",
    "    f1 = f1_score(y_test, y_pred, average='weighted', zero_division=1)\n",
    "    recall = recall_score(y_test, y_pred, average='weighted', zero_division=1)\n",
    "    precision = precision_score(y_test, y_pred, average='weighted', zero_division=1)\n",
    "    tn, fp, fn, tp = cm.ravel()\n",
    "    report = classification_report(y_test, y_pred, target_names=['Class 0 - (BHLH)', 'Class 1 - (CYP )'], zero_division=1)\n",
    "    cf_id = ''.join(random.choices(string.ascii_uppercase+string.digits, k=8))\n",
    "    plt.figure(figsize=(6, 4))\n",
    "    sns.heatmap(cm, annot=True, fmt='d', cmap='Reds', xticklabels=['Class 0 - (BHLH)', 'Class 1 - (CYP)'], yticklabels=['Class 0 - (BHLH)', 'Class 1 - (CYP)'])\n",
    "    plt.xlabel('Predicted')\n",
    "    plt.ylabel('Actual')\n",
    "    plt.savefig(f\"Output/CFMatrix/confusion_matrix_{cf_id}.png\")\n",
    "    plt.close()\n",
    "    \n",
    "    report_html = f\"\"\"\n",
    "    <div style=\"border: 2px solid #ddd;\">\n",
    "        <div style=\"padding: 0.6em; background-color: #ffdddd; font-weight: bold;\">MODEL: {args[0]}</div>\n",
    "        <div style=\"display: flex;\">\n",
    "            <div style=\"padding: 10px; width: 240px;\">\n",
    "                <h2>Initial perfomance</h2>\n",
    "                <ul>\n",
    "                    <li>Cross_validation Accuracy: {args[1]}</li>\n",
    "                </ul>\n",
    "            </div>\n",
    "            <div style=\"flex: 1; padding: 10px;\">\n",
    "                <h2>Classification Report</h2>\n",
    "                <pre>{report}</pre>\n",
    "                <h3>Metrics</h3>\n",
    "                <div style=\"display: flex;\">\n",
    "                    <ul>\n",
    "                        <li>True Positives (TP): {tp}</li>\n",
    "                        <li>True Negatives (TN): {tn}</li>\n",
    "                    </ul>\n",
    "                    <ul style=\"margin-left: 2em;\">\n",
    "                        <li>False Positives (FP): {fp}</li>\n",
    "                        <li>False Negatives (FN): {fn}</li>\n",
    "                    </ul>\n",
    "                </div>\n",
    "            </div>\n",
    "            <div style=\"flex: 1; padding: 10px;\">\n",
    "                <h2 style=\"margin-left: 2em;\">Confusion Matrix</h2>\n",
    "                <img src=\"Output/CFMatrix/confusion_matrix_{cf_id}.png\" width=\"400\">\n",
    "            </div>\n",
    "        </div>\n",
    "    </div>\n",
    "    \"\"\"\n",
    "\n",
    "    # Display report and confusion matrix side by side\n",
    "    display(HTML(report_html))"
   ]
  },
  {
   "cell_type": "markdown",
   "id": "4b92f8fa-c0ff-4522-b3a8-3410a10849e7",
   "metadata": {},
   "source": [
    "### 2 - Load Model / Data\n"
   ]
  },
  {
   "cell_type": "markdown",
   "id": "83ec2901-02ce-4608-97cb-2c8357065c00",
   "metadata": {},
   "source": [
    "* **Load our fasta file**\n",
    "    - Here we load the fasta file as pandas DataFrame\n",
    "    - Instead of class==\"BHLH\" we will use 0 <span style=\"color: blue;\">which correspond to BHLH when we were training our model</span>"
   ]
  },
  {
   "cell_type": "code",
   "execution_count": 22,
   "id": "6b509127-af34-4c80-b546-dde9c937f65f",
   "metadata": {},
   "outputs": [
    {
     "data": {
      "text/html": [
       "<div>\n",
       "<style scoped>\n",
       "    .dataframe tbody tr th:only-of-type {\n",
       "        vertical-align: middle;\n",
       "    }\n",
       "\n",
       "    .dataframe tbody tr th {\n",
       "        vertical-align: top;\n",
       "    }\n",
       "\n",
       "    .dataframe thead th {\n",
       "        text-align: right;\n",
       "    }\n",
       "</style>\n",
       "<table border=\"1\" class=\"dataframe\">\n",
       "  <thead>\n",
       "    <tr style=\"text-align: right;\">\n",
       "      <th></th>\n",
       "      <th>id</th>\n",
       "      <th>sequence</th>\n",
       "      <th>length</th>\n",
       "      <th>class</th>\n",
       "    </tr>\n",
       "  </thead>\n",
       "  <tbody>\n",
       "    <tr>\n",
       "      <th>0</th>\n",
       "      <td>LsbHLHD2</td>\n",
       "      <td>CTTTAGACTAAATAGTCATGAGTCAGAAAATTCGGATGCCTTGAAA...</td>\n",
       "      <td>1099</td>\n",
       "      <td>0</td>\n",
       "    </tr>\n",
       "    <tr>\n",
       "      <th>1</th>\n",
       "      <td>LsbHLHD3</td>\n",
       "      <td>TCAATTTTATAACTGTGAGAGATCCAATGAAGCACACGTGCACGGA...</td>\n",
       "      <td>1066</td>\n",
       "      <td>0</td>\n",
       "    </tr>\n",
       "    <tr>\n",
       "      <th>2</th>\n",
       "      <td>LsbHLHD4</td>\n",
       "      <td>ACTCAATGAATGATAAGCTGAAAAATAACATGTTACCCATTTATGA...</td>\n",
       "      <td>2851</td>\n",
       "      <td>0</td>\n",
       "    </tr>\n",
       "    <tr>\n",
       "      <th>3</th>\n",
       "      <td>LsbHLHD5</td>\n",
       "      <td>TACACTTCAAGAGACAACCTCTTCAAACTAACCAAAAACACATAGA...</td>\n",
       "      <td>2722</td>\n",
       "      <td>0</td>\n",
       "    </tr>\n",
       "    <tr>\n",
       "      <th>4</th>\n",
       "      <td>LsbHLHD6</td>\n",
       "      <td>CTAAGGTTCTTTTCTTCCTGCATCTATTAGATAGATACCTCAAATA...</td>\n",
       "      <td>2335</td>\n",
       "      <td>0</td>\n",
       "    </tr>\n",
       "  </tbody>\n",
       "</table>\n",
       "</div>"
      ],
      "text/plain": [
       "         id                                           sequence  length  class\n",
       "0  LsbHLHD2  CTTTAGACTAAATAGTCATGAGTCAGAAAATTCGGATGCCTTGAAA...    1099      0\n",
       "1  LsbHLHD3  TCAATTTTATAACTGTGAGAGATCCAATGAAGCACACGTGCACGGA...    1066      0\n",
       "2  LsbHLHD4  ACTCAATGAATGATAAGCTGAAAAATAACATGTTACCCATTTATGA...    2851      0\n",
       "3  LsbHLHD5  TACACTTCAAGAGACAACCTCTTCAAACTAACCAAAAACACATAGA...    2722      0\n",
       "4  LsbHLHD6  CTAAGGTTCTTTTCTTCCTGCATCTATTAGATAGATACCTCAAATA...    2335      0"
      ]
     },
     "execution_count": 22,
     "metadata": {},
     "output_type": "execute_result"
    }
   ],
   "source": [
    "# Data file path\n",
    "bHLH_Validation_data = \"./Content/Validation-set/LsbHLH.fasta\"\n",
    "\n",
    "# Convert to dataframe and label class as \"class_0\":\n",
    "dataset = read_fasta_file(bHLH_Validation_data, 0)\n",
    "\n",
    "# Let's get a quick look at our dataset\n",
    "dataset.head()"
   ]
  },
  {
   "cell_type": "markdown",
   "id": "3f813d0d-a224-49cb-844f-06b3a44c111e",
   "metadata": {},
   "source": [
    "* **Prepare k-mer representation for k={3, 4, 5, 6}**"
   ]
  },
  {
   "cell_type": "code",
   "execution_count": 23,
   "id": "5c187720-b2ef-4b7f-b8d0-fe82991f983e",
   "metadata": {},
   "outputs": [],
   "source": [
    "X_test_3, y_test_3, features_list_3 = build_kmer_representation(dataset, k=3)\n",
    "X_test_4, y_test_4, features_list_4 = build_kmer_representation(dataset, k=4)\n",
    "X_test_5, y_test_5, features_list_5 = build_kmer_representation(dataset, k=5)\n",
    "X_test_6, y_test_6, features_list_6 = build_kmer_representation(dataset, k=6)"
   ]
  },
  {
   "cell_type": "markdown",
   "id": "8184d26d-b0a9-4ea4-87b8-d38df6c71c2e",
   "metadata": {},
   "source": [
    "* **Load best models & Plot performance**"
   ]
  },
  {
   "cell_type": "markdown",
   "id": "5b4c179a-23b6-4cec-b7f0-8a50ec516917",
   "metadata": {},
   "source": [
    "<h4 style=\"background-color: #80c4e6; border-top: 4px solid #dddddd; display: flex; color: white;\">\n",
    "    <ul><li>Without feature selection</li></ul>\n",
    "</h4>"
   ]
  },
  {
   "cell_type": "code",
   "execution_count": 24,
   "id": "2b11df38-fde9-4d24-a310-d0279fb5003d",
   "metadata": {},
   "outputs": [],
   "source": [
    "# BEST MODEL WITHOUT FEATURE SELECTION\n",
    "basic_k3 = joblib.load(f\"./Output/ModelPickle/k3_[Gaussian Process]_basic.joblib\")\n",
    "basic_k4 = joblib.load(f\"./Output/ModelPickle/k4_[Gaussian Process]_basic.joblib\")\n",
    "basic_k5 = joblib.load(f\"./Output/ModelPickle/k5_[Gaussian Process]_basic.joblib\")\n",
    "basic_k6 = joblib.load(f\"./Output/ModelPickle/k6_[Gaussian Process]_basic.joblib\")"
   ]
  },
  {
   "cell_type": "code",
   "execution_count": 25,
   "id": "238d4ebe-782c-470d-a5ba-e3abb15d7f36",
   "metadata": {},
   "outputs": [
    {
     "data": {
      "text/html": [
       "\n",
       "    <div style=\"border: 2px solid #ddd;\">\n",
       "        <div style=\"padding: 0.6em; background-color: #ffdddd; font-weight: bold;\">MODEL: Gaussian Process, k=3</div>\n",
       "        <div style=\"display: flex;\">\n",
       "            <div style=\"padding: 10px; width: 240px;\">\n",
       "                <h2>Initial perfomance</h2>\n",
       "                <ul>\n",
       "                    <li>Cross_validation Accuracy: 0.87</li>\n",
       "                </ul>\n",
       "            </div>\n",
       "            <div style=\"flex: 1; padding: 10px;\">\n",
       "                <h2>Classification Report</h2>\n",
       "                <pre>                  precision    recall  f1-score   support\n",
       "\n",
       "Class 0 - (BHLH)       1.00      0.61      0.76       122\n",
       "Class 1 - (CYP )       0.00      1.00      0.00         0\n",
       "\n",
       "        accuracy                           0.61       122\n",
       "       macro avg       0.50      0.81      0.38       122\n",
       "    weighted avg       1.00      0.61      0.76       122\n",
       "</pre>\n",
       "                <h3>Metrics</h3>\n",
       "                <div style=\"display: flex;\">\n",
       "                    <ul>\n",
       "                        <li>True Positives (TP): 0</li>\n",
       "                        <li>True Negatives (TN): 75</li>\n",
       "                    </ul>\n",
       "                    <ul style=\"margin-left: 2em;\">\n",
       "                        <li>False Positives (FP): 47</li>\n",
       "                        <li>False Negatives (FN): 0</li>\n",
       "                    </ul>\n",
       "                </div>\n",
       "            </div>\n",
       "            <div style=\"flex: 1; padding: 10px;\">\n",
       "                <h2 style=\"margin-left: 2em;\">Confusion Matrix</h2>\n",
       "                <img src=\"Output/CFMatrix/confusion_matrix_Q8DF23WQ.png\" width=\"400\">\n",
       "            </div>\n",
       "        </div>\n",
       "    </div>\n",
       "    "
      ],
      "text/plain": [
       "<IPython.core.display.HTML object>"
      ]
     },
     "metadata": {},
     "output_type": "display_data"
    }
   ],
   "source": [
    "test_report(X_test_3, y_test_3, model=basic_k3, args=[\"Gaussian Process, k=3\", \"0.87\"])"
   ]
  },
  {
   "cell_type": "code",
   "execution_count": 26,
   "id": "35c27f68-a03d-4d3a-90ae-37400b92cb2f",
   "metadata": {},
   "outputs": [
    {
     "data": {
      "text/html": [
       "\n",
       "    <div style=\"border: 2px solid #ddd;\">\n",
       "        <div style=\"padding: 0.6em; background-color: #ffdddd; font-weight: bold;\">MODEL: Gaussian Process, k=4</div>\n",
       "        <div style=\"display: flex;\">\n",
       "            <div style=\"padding: 10px; width: 240px;\">\n",
       "                <h2>Initial perfomance</h2>\n",
       "                <ul>\n",
       "                    <li>Cross_validation Accuracy: 0.90</li>\n",
       "                </ul>\n",
       "            </div>\n",
       "            <div style=\"flex: 1; padding: 10px;\">\n",
       "                <h2>Classification Report</h2>\n",
       "                <pre>                  precision    recall  f1-score   support\n",
       "\n",
       "Class 0 - (BHLH)       1.00      0.65      0.79       122\n",
       "Class 1 - (CYP )       0.00      1.00      0.00         0\n",
       "\n",
       "        accuracy                           0.65       122\n",
       "       macro avg       0.50      0.82      0.39       122\n",
       "    weighted avg       1.00      0.65      0.79       122\n",
       "</pre>\n",
       "                <h3>Metrics</h3>\n",
       "                <div style=\"display: flex;\">\n",
       "                    <ul>\n",
       "                        <li>True Positives (TP): 0</li>\n",
       "                        <li>True Negatives (TN): 79</li>\n",
       "                    </ul>\n",
       "                    <ul style=\"margin-left: 2em;\">\n",
       "                        <li>False Positives (FP): 43</li>\n",
       "                        <li>False Negatives (FN): 0</li>\n",
       "                    </ul>\n",
       "                </div>\n",
       "            </div>\n",
       "            <div style=\"flex: 1; padding: 10px;\">\n",
       "                <h2 style=\"margin-left: 2em;\">Confusion Matrix</h2>\n",
       "                <img src=\"Output/CFMatrix/confusion_matrix_B8SXUGNM.png\" width=\"400\">\n",
       "            </div>\n",
       "        </div>\n",
       "    </div>\n",
       "    "
      ],
      "text/plain": [
       "<IPython.core.display.HTML object>"
      ]
     },
     "metadata": {},
     "output_type": "display_data"
    }
   ],
   "source": [
    "test_report(X_test_4, y_test_4, model=basic_k4, args=[\"Gaussian Process, k=4\", \"0.90\"])"
   ]
  },
  {
   "cell_type": "code",
   "execution_count": 11,
   "id": "722966e1-7965-4fc2-88ca-065eaf98e91b",
   "metadata": {},
   "outputs": [
    {
     "data": {
      "text/html": [
       "\n",
       "    <div style=\"border: 2px solid #ddd;\">\n",
       "        <div style=\"padding: 0.6em; background-color: #ffdddd; font-weight: bold;\">MODEL: Gaussian Process, k=5</div>\n",
       "        <div style=\"display: flex;\">\n",
       "            <div style=\"padding: 10px; width: 240px;\">\n",
       "                <h2>Initial perfomance</h2>\n",
       "                <ul>\n",
       "                    <li>Cross_validation Accuracy: 0.90</li>\n",
       "                </ul>\n",
       "            </div>\n",
       "            <div style=\"flex: 1; padding: 10px;\">\n",
       "                <h2>Classification Report</h2>\n",
       "                <pre>                  precision    recall  f1-score   support\n",
       "\n",
       "Class 0 - (BHLH)       1.00      0.65      0.79       122\n",
       "Class 1 - (CYP )       0.00      1.00      0.00         0\n",
       "\n",
       "        accuracy                           0.65       122\n",
       "       macro avg       0.50      0.82      0.39       122\n",
       "    weighted avg       1.00      0.65      0.79       122\n",
       "</pre>\n",
       "                <h3>Metrics</h3>\n",
       "                <div style=\"display: flex;\">\n",
       "                    <ul>\n",
       "                        <li>True Positives (TP): 0</li>\n",
       "                        <li>True Negatives (TN): 79</li>\n",
       "                    </ul>\n",
       "                    <ul style=\"margin-left: 2em;\">\n",
       "                        <li>False Positives (FP): 43</li>\n",
       "                        <li>False Negatives (FN): 0</li>\n",
       "                    </ul>\n",
       "                </div>\n",
       "            </div>\n",
       "            <div style=\"flex: 1; padding: 10px;\">\n",
       "                <h2 style=\"margin-left: 2em;\">Confusion Matrix</h2>\n",
       "                <img src=\"Output/CFMatrix/confusion_matrix_R0ETUTDL.png\" width=\"400\">\n",
       "            </div>\n",
       "        </div>\n",
       "    </div>\n",
       "    "
      ],
      "text/plain": [
       "<IPython.core.display.HTML object>"
      ]
     },
     "metadata": {},
     "output_type": "display_data"
    }
   ],
   "source": [
    "test_report(X_test_5, y_test_5, model=basic_k5, args=[\"Gaussian Process, k=5\", \"0.90\"])"
   ]
  },
  {
   "cell_type": "code",
   "execution_count": 12,
   "id": "19a517ee-4ffa-47a3-bf8f-6b3d9902730d",
   "metadata": {},
   "outputs": [
    {
     "data": {
      "text/html": [
       "\n",
       "    <div style=\"border: 2px solid #ddd;\">\n",
       "        <div style=\"padding: 0.6em; background-color: #ffdddd; font-weight: bold;\">MODEL: Gaussian Process, k=6</div>\n",
       "        <div style=\"display: flex;\">\n",
       "            <div style=\"padding: 10px; width: 240px;\">\n",
       "                <h2>Initial perfomance</h2>\n",
       "                <ul>\n",
       "                    <li>Cross_validation Accuracy: 0.90</li>\n",
       "                </ul>\n",
       "            </div>\n",
       "            <div style=\"flex: 1; padding: 10px;\">\n",
       "                <h2>Classification Report</h2>\n",
       "                <pre>                  precision    recall  f1-score   support\n",
       "\n",
       "Class 0 - (BHLH)       1.00      0.66      0.80       122\n",
       "Class 1 - (CYP )       0.00      1.00      0.00         0\n",
       "\n",
       "        accuracy                           0.66       122\n",
       "       macro avg       0.50      0.83      0.40       122\n",
       "    weighted avg       1.00      0.66      0.80       122\n",
       "</pre>\n",
       "                <h3>Metrics</h3>\n",
       "                <div style=\"display: flex;\">\n",
       "                    <ul>\n",
       "                        <li>True Positives (TP): 0</li>\n",
       "                        <li>True Negatives (TN): 81</li>\n",
       "                    </ul>\n",
       "                    <ul style=\"margin-left: 2em;\">\n",
       "                        <li>False Positives (FP): 41</li>\n",
       "                        <li>False Negatives (FN): 0</li>\n",
       "                    </ul>\n",
       "                </div>\n",
       "            </div>\n",
       "            <div style=\"flex: 1; padding: 10px;\">\n",
       "                <h2 style=\"margin-left: 2em;\">Confusion Matrix</h2>\n",
       "                <img src=\"Output/CFMatrix/confusion_matrix_T0VP0CLX.png\" width=\"400\">\n",
       "            </div>\n",
       "        </div>\n",
       "    </div>\n",
       "    "
      ],
      "text/plain": [
       "<IPython.core.display.HTML object>"
      ]
     },
     "metadata": {},
     "output_type": "display_data"
    }
   ],
   "source": [
    "test_report(X_test_6, y_test_6, model=basic_k6, args=[\"Gaussian Process, k=6\", \"0.90\"])"
   ]
  },
  {
   "cell_type": "markdown",
   "id": "e2d621c6-e21f-4d53-9612-3a4eb65fdeba",
   "metadata": {},
   "source": [
    "<h4 style=\"background-color: #80c4e6; border-top: 4px solid #dddddd; display: flex; color: white;\">\n",
    "    <ul><li>With feature selection: PCA</li></ul>\n",
    "</h4>"
   ]
  },
  {
   "cell_type": "code",
   "execution_count": null,
   "id": "f8be1385-6e4a-4df6-91d4-a1933d76e70b",
   "metadata": {},
   "outputs": [],
   "source": []
  }
 ],
 "metadata": {
  "kernelspec": {
   "display_name": "Python 3 (ipykernel)",
   "language": "python",
   "name": "python3"
  },
  "language_info": {
   "codemirror_mode": {
    "name": "ipython",
    "version": 3
   },
   "file_extension": ".py",
   "mimetype": "text/x-python",
   "name": "python",
   "nbconvert_exporter": "python",
   "pygments_lexer": "ipython3",
   "version": "3.11.7"
  }
 },
 "nbformat": 4,
 "nbformat_minor": 5
}
